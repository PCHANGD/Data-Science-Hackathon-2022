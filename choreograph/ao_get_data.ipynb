{
 "cells": [
  {
   "cell_type": "code",
   "execution_count": null,
   "id": "0958d919-5329-4344-b41f-c9887eda0b94",
   "metadata": {},
   "outputs": [],
   "source": [
    "import pandas as pd\n",
    "import numpy as np \n",
    "import os\n",
    "\n",
    "import pyreadstat\n",
    "\n",
    "wd = \"/Users/annie.quinn/git/ford-hackathon/personal/annie/AO21\"\n",
    "filepath = os.path.join(wd, \"AO21W1+2_CORE_RELEASE_V1(W)_NoID.zsav\")\n",
    "print(filepath)\n",
    "\n",
    "data, meta = pyreadstat.read_sav(filepath, row_limit=10000) # Initial read in to get market ids\n",
    "\n",
    "countries = [\"Australia\", \"USA\"]\n",
    "market_ids = [k for k, v in meta.variable_value_labels[\"Market\"].items() if v in countries]\n",
    "print(f\"Market ids for selected countries {dict(zip(countries, market_ids))}\")"
   ]
  },
  {
   "cell_type": "code",
   "execution_count": null,
   "id": "6cc40963-f09b-45b5-9fb9-bf5c67149b1f",
   "metadata": {},
   "outputs": [],
   "source": [
    "# Get dataframe of columns, descriptions and values\n",
    "col_desc = pd.DataFrame([meta.column_names_to_labels]).melt(var_name = \"col\", value_name = \"description\")\n",
    "col_values = pd.DataFrame([meta.variable_value_labels]).melt(var_name = \"col\", value_name = \"values\")\n",
    "col_desc_values = col_desc.merge(col_values, how = \"outer\")\n",
    "col_desc_values = col_desc_values.loc[col_desc_values[\"col\"].isin(data.columns)]\n",
    "col_desc_values.reset_index(drop=True, inplace=True)\n",
    "col_desc_values.to_csv(os.path.join(wd, \"ao_col_desc_values.csv\"))"
   ]
  },
  {
   "cell_type": "code",
   "execution_count": null,
   "id": "e01598c1-6a80-44f2-8044-f58faed86a1b",
   "metadata": {},
   "outputs": [],
   "source": [
    "# Read data from sav - focus on selected market ids\n",
    "df = []\n",
    "i = 0\n",
    "reader = pyreadstat.read_file_in_chunks(pyreadstat.read_sav, filepath, chunksize=10000, multiprocess=True)\n",
    "for data, _ in reader:\n",
    "    print(f\"Reading chunk {i}\")\n",
    "    mask = (\n",
    "        (data[\"Market\"].isin(market_ids)) &  # In chosen market(s)\n",
    "        ((data[\"PUR03_2_46\"] == 1) | (data[\"PUR03_2_53\"] == 1)) &  # Have bought a car in last 12-months\n",
    "        (data[\"HV_Section\"] == 2)  # Answered deep dive questions         \n",
    "    )\n",
    "    df.append(data.copy().loc[mask])\n",
    "    i+=1"
   ]
  },
  {
   "cell_type": "code",
   "execution_count": null,
   "id": "e371ca2e-3f8b-43b7-8f60-9c1095b661c3",
   "metadata": {},
   "outputs": [],
   "source": [
    "# Flatten to single df\n",
    "df_all = pd.concat(df)\n",
    "cols_nan = df_all.columns[df_all.isna().all(axis=0)]\n",
    "df_all = df_all.drop(columns=cols_nan)\n",
    "df_all.reset_index(drop=True, inplace=True)\n",
    "df_all.shape"
   ]
  },
  {
   "cell_type": "code",
   "execution_count": null,
   "id": "75ab4208-8076-4f19-bcf1-83a201026bf0",
   "metadata": {},
   "outputs": [],
   "source": [
    "# Export\n",
    "df_all.to_csv(os.path.join(wd, \"ao_data.csv\"))"
   ]
  },
  {
   "cell_type": "code",
   "execution_count": null,
   "id": "fa6f9e59-8a17-43ac-99cc-d3696c47bc9a",
   "metadata": {},
   "outputs": [],
   "source": []
  }
 ],
 "metadata": {
  "kernelspec": {
   "display_name": "Python 3 (ipykernel)",
   "language": "python",
   "name": "python3"
  },
  "language_info": {
   "codemirror_mode": {
    "name": "ipython",
    "version": 3
   },
   "file_extension": ".py",
   "mimetype": "text/x-python",
   "name": "python",
   "nbconvert_exporter": "python",
   "pygments_lexer": "ipython3",
   "version": "3.10.4"
  }
 },
 "nbformat": 4,
 "nbformat_minor": 5
}
