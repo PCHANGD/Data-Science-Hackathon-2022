{
 "cells": [
  {
   "cell_type": "code",
   "execution_count": null,
   "id": "98632a92-f481-49f0-9df6-8b0f3ec00b32",
   "metadata": {},
   "outputs": [],
   "source": [
    "\"\"\"\n",
    "- Read in BAV brandscape (brand landscape data)\n",
    "- EDA/GEDA across metric groups:\n",
    "    - Usage\n",
    "    - Recommendation\n",
    "    - Love\n",
    "    - Preference\n",
    "    - Powergrid\n",
    "    - Imagery\n",
    "\"\"\""
   ]
  },
  {
   "cell_type": "code",
   "execution_count": null,
   "id": "d133999f-d66d-4823-a520-490dc61c0e9f",
   "metadata": {},
   "outputs": [],
   "source": [
    "import pandas as pd\n",
    "import numpy as np\n",
    "\n",
    "import plotly.express as px\n",
    "import plotly.io as pio\n",
    "\n",
    "pd.options.plotting.backend = \"plotly\"\n",
    "pio.templates.default = \"plotly_white\"\n",
    "\n",
    "from sklearn.decomposition import PCA\n",
    "\n",
    "from utils_analysis import (\n",
    "    data_subset,\n",
    "    data_subset_ownership,\n",
    "    data_subset_wide,\n",
    "    plot_scatter,\n",
    "    plot_rank,\n",
    ")"
   ]
  },
  {
   "cell_type": "code",
   "execution_count": null,
   "id": "20a56a19-1a0e-4ca9-887c-ad386a40b0d1",
   "metadata": {},
   "outputs": [],
   "source": [
    "# GET DATA\n",
    "brandscape = pd.read_csv(\"brandscape.csv\", index_col=0)\n",
    "brandscape"
   ]
  },
  {
   "cell_type": "code",
   "execution_count": null,
   "id": "da308aad-c981-4f06-838f-e016ebaef773",
   "metadata": {},
   "outputs": [],
   "source": [
    "# USAGE\n",
    "# Get usage data\n",
    "mask = (\n",
    "    (brandscape[\"metric_group\"] == \"Usage\") & \n",
    "    (brandscape[\"metric_name\"].isin([\"Total Users\", \"Lapsed User\", \"Never Used\"]))\n",
    ")\n",
    "cols = [\"country\", \"base\", \"brand\", \"metric_name\", \"value\"]\n",
    "usage = data_subset(input_data=brandscape, mask=mask, cols=cols, rank_groupby=[\"country\", \"base\", \"metric_name\"])\n",
    "\n",
    "# Get usage in wide form\n",
    "usage_wide = data_subset_wide(data_subset=usage, index_cols=[\"country\", \"base\", \"brand\"])\n",
    "usage_wide[\"rank\"] = usage_wide.groupby([\"country\", \"base\"])[\"Total Users\"].rank(ascending=False)\n",
    "usage_wide[\"top5_brand\"] = np.where(usage_wide[\"rank\"] <= 5, usage_wide[\"brand\"], \"\")\n",
    "\n",
    "# What are the top owned brands?\n",
    "plot_rank(usage.query(\"metric_name == 'Total Users' & rank <= 5\"), color=\"brand\")\n",
    "\n",
    "# Compare current and former users of each brand  # INCLUDE AS OUTPUT\n",
    "plot_scatter(usage_wide, x=\"Total Users\", y=\"Lapsed User\", label=\"top5_brand\", coord_equal=True)"
   ]
  },
  {
   "cell_type": "code",
   "execution_count": null,
   "id": "c10c9619-087f-469d-b6d0-debc8730dd1a",
   "metadata": {},
   "outputs": [],
   "source": [
    "# RECOMMENDATION\n",
    "# Get recommendation data\n",
    "mask = brandscape[\"metric_name\"] == \"Recommend To A Friend\"\n",
    "cols = brandscape.columns\n",
    "recommend = data_subset(input_data=brandscape, mask=mask, cols=cols, rank_groupby=[\"country\", \"base\"])\n",
    "recommend = data_subset_ownership(usage, recommend)\n",
    "\n",
    "# Get recommend in wide form\n",
    "recommend_wide = data_subset_wide(recommend, index_cols=[\"country\", \"base\", \"brand\", \"top_ownership\"])\n",
    "\n",
    "# Where do top brands sit in recommendation ranking?\n",
    "plot_rank(recommend.query(\"rank <= 15\"))"
   ]
  },
  {
   "cell_type": "code",
   "execution_count": null,
   "id": "e3594d56-e540-4f81-8274-de207f62eeb6",
   "metadata": {},
   "outputs": [],
   "source": [
    "# LOVE\n",
    "# Get love data\n",
    "mask = (brandscape[\"metric_group\"] == \"Love\") & (brandscape[\"metric_var\"] == \"percentage\")\n",
    "cols = [\"country\", \"base\", \"brand\", \"metric_name\", \"value\"]\n",
    "love = data_subset(input_data=brandscape, mask=mask, cols=cols, rank_groupby=[\"country\", \"base\", \"metric_name\"])\n",
    "love = data_subset_ownership(usage, love)\n",
    "\n",
    "# Get love in wide form\n",
    "love_wide = data_subset_wide(love, index_cols=[\"country\", \"base\", \"brand\", \"top_ownership\"])\n",
    "\n",
    "# Where do top brands sit in love ranking? (Most loved)\n",
    "plot_rank(love.query(\"metric_name == 'Most Loved' & rank <= 15\"))\n",
    "\n",
    "# Where do top brands sit in love ranking? (Most hated)\n",
    "plot_rank(love.query(\"metric_name == 'Most Hated'\"))\n",
    "\n",
    "# Compare most hated and most loved brands\n",
    "plot_scatter(love_wide, x=\"Most Hated\", y=\"Most Loved\", color=\"top_ownership\", coord_equal=True)"
   ]
  },
  {
   "cell_type": "code",
   "execution_count": null,
   "id": "d11fd678-4c17-4d57-a6fc-1e83d3f8e88e",
   "metadata": {},
   "outputs": [],
   "source": [
    "# PREFERENCE\n",
    "# Get preference data\n",
    "mask = (brandscape[\"metric_group\"] == \"Preference\") & (brandscape[\"metric_name\"].isin([\"One I Prefer\", \"Total Prefer\"]))\n",
    "cols = [\"country\", \"base\", \"brand\", \"metric_name\", \"value\"]\n",
    "pref = data_subset(input_data=brandscape, mask=mask, cols=cols, rank_groupby=[\"country\", \"base\", \"metric_name\"])\n",
    "pref = data_subset_ownership(usage, pref)\n",
    "\n",
    "# Get preference in wide form\n",
    "pref_wide = data_subset_wide(pref, index_cols=[\"country\", \"base\", \"brand\", \"top_ownership\"])\n",
    "\n",
    "# Where do top brands sit in preference? (One I Prefer)\n",
    "plot_rank(pref.query(\"metric_name == 'One I Prefer'\"))\n",
    "\n",
    "# Where do top brands sit in preference? (Total Prefer)\n",
    "plot_rank(pref.query(\"metric_name == 'Total Prefer'\"))\n",
    "\n",
    "# Compare one I prefer and total prefer\n",
    "plot_scatter(pref_wide, x=\"One I Prefer\", y=\"Total Prefer\", color=\"top_ownership\", coord_equal=True)"
   ]
  },
  {
   "cell_type": "code",
   "execution_count": null,
   "id": "939a0e4e-1850-4fc8-b67a-fb4c8c1a45b1",
   "metadata": {},
   "outputs": [],
   "source": [
    "(\n",
    "    usage.pivot(index = [\"country\", \"base\", \"brand\"], columns = \"metric_name\", values = \"pct\").reset_index().merge(\n",
    "        love.pivot(index = [\"country\", \"base\", \"brand\"], columns = \"metric_name\", values = \"value\").reset_index()\n",
    "    )\n",
    "    .merge(ownership_brands, how = \"outer\")\n",
    "    .assign(top_ownership = lambda d: d[\"top_ownership\"].fillna(False))\n",
    "    .plot.scatter(x = \"Total Users\", y = \"Most Hated\", color = \"top_ownership\", hover_data = [\"brand\"], facet_col = \"country\", facet_row = \"base\")\n",
    "    .update_layout(height = 800)\n",
    "    .update_xaxes(range = [0, 60], nticks = 4, constrain='domain')\n",
    "    .update_yaxes(range = [0, 60], nticks = 4, scaleanchor = \"x\", scaleratio = 1, constrain='domain')\n",
    ")"
   ]
  },
  {
   "cell_type": "code",
   "execution_count": null,
   "id": "b4f28b0f-7cdd-48d1-ae89-94a689f88271",
   "metadata": {},
   "outputs": [],
   "source": [
    "# POWERGRID\n",
    "# Get powergrid data\n",
    "mask = (\n",
    "    (brandscape[\"metric_group\"] == \"Powergrid\") & \n",
    "    (brandscape[\"metric_var\"] == \"rank\") & \n",
    "    (brandscape[\"base\"] == \"1_All Adults\")\n",
    ")\n",
    "cols = [\"country\", \"brand\", \"base\", \"metric_name\", \"value\"]\n",
    "powergrid = brandscape.copy().loc[mask, cols].reset_index(drop=True)\n",
    "powergrid = data_subset_ownership(usage, powergrid).dropna()\n",
    "\n",
    "# Get powergrid in wide form\n",
    "powergrid_wide = data_subset_wide(powergrid, index_cols=[\"country\", \"brand\", \"top_ownership\"])\n",
    "\n",
    "# Plot BAV powergrid https://www.bavgroup.com/about-bav/brandassetr-valuator # INCLUDE AS OUTPUT\n",
    "powergrid_wide.plot.scatter(x=\"Brand Stature\", y=\"Brand Strength\", facet_col=\"country\", color=\"top_ownership\")"
   ]
  },
  {
   "cell_type": "markdown",
   "id": "2d43f95a-8354-48fb-8d9e-421ac4fbaba9",
   "metadata": {},
   "source": [
    "-----\n",
    "# PCA - Important imagery"
   ]
  },
  {
   "cell_type": "code",
   "execution_count": null,
   "id": "d41b2e16-3513-44cf-bcdf-60115442918b",
   "metadata": {},
   "outputs": [],
   "source": [
    "def unite_cols(data, idx_cols):\n",
    "    \n",
    "    if isinstance(idx_cols, list):\n",
    "        subset = data[idx_cols]\n",
    "        first_col = idx_cols[0]\n",
    "        idx = subset[first_col].astype(str)\n",
    "\n",
    "        for col in subset.columns[1:]:\n",
    "            idx = idx + \"_\" + subset[col].astype(str)\n",
    "    else:\n",
    "        idx = data[idx_cols]\n",
    "        \n",
    "    return idx"
   ]
  },
  {
   "cell_type": "code",
   "execution_count": null,
   "id": "9a3bf4d2-971d-4ed6-9bfd-3406b107d950",
   "metadata": {},
   "outputs": [],
   "source": [
    "\n",
    "\n",
    "\n",
    "def apply_pca(brandscape, mask, idx_cols, n = 2, nrows = 10):\n",
    "    cols = [\"country\", \"base\", \"brand\", \"metric_name\", \"value\"]\n",
    "    imagery = brandscape.loc[mask, cols]\n",
    "    attr = imagery[\"metric_name\"].unique().tolist()\n",
    "    print(len(attr))\n",
    "    cols_idx_tmp = imagery.columns[~imagery.columns.isin([\"metric_name\", \"value\"])].tolist()\n",
    "    imagery_wide = imagery.pivot(index = cols_idx_tmp, columns=\"metric_name\", values=\"value\").reset_index()\n",
    "    idx = unite_cols(imagery_wide, idx_cols)\n",
    "    imagery_wide = imagery_wide.copy().set_index(idx)[attr]\n",
    "    \n",
    "    #n = 2\n",
    "    idx_n = [\"pc\" + i.astype(str) for i in np.arange(0,n)] \n",
    "    print(idx_n)\n",
    "    pca = PCA(n_components=n)\n",
    "    principalComponents = pca.fit_transform(imagery_wide)\n",
    "    print(pca.explained_variance_ratio_)\n",
    "    print(pca.explained_variance_ratio_.sum())\n",
    "    print(pca.components_.shape)\n",
    "    output = pd.DataFrame(abs(pca.components_), columns = attr, index = idx_n).reset_index().melt(id_vars = \"index\")\n",
    "    output = output.sort_values([\"value\"], ascending=False).assign(rank = lambda d: d[\"value\"].rank(ascending=False))\n",
    "    return(output)"
   ]
  },
  {
   "cell_type": "code",
   "execution_count": null,
   "id": "40626875-bb62-4409-a56c-76eafaccbd66",
   "metadata": {},
   "outputs": [],
   "source": [
    "# Subset to imagery\n",
    "mask = (\n",
    "    (brandscape[\"metric_group\"] == \"Imagery\") &\n",
    "    (brandscape[\"metric_var\"] == \"percentage\")\n",
    ")\n",
    "cols = [\"country\", \"base\", \"brand\", \"metric_name\", \"value\"]\n",
    "imagery = brandscape.copy().loc[mask, cols].reset_index(drop=True)\n",
    "imagery_wide = imagery_subset.pivot(index=[\"country\", \"base\", \"brand\"], columns=\"metric_name\", values=\"value\").reset_index()\n",
    "\n",
    "# Get list of imagery attributes\n",
    "attr = imagery[\"metric_name\"].unique().tolist()\n",
    "print(len(attr))"
   ]
  },
  {
   "cell_type": "code",
   "execution_count": null,
   "id": "14b45ad3-8f7a-4890-9c5c-8d60e9bf1b35",
   "metadata": {},
   "outputs": [],
   "source": [
    "imagery_wide"
   ]
  },
  {
   "cell_type": "code",
   "execution_count": null,
   "id": "5c8f0070-e2f9-420e-9120-513b0a315af8",
   "metadata": {},
   "outputs": [],
   "source": [
    "base_list = [\"1_All Adults\"]\n",
    "country_list = [\"Australia\", \"USA\"]\n",
    "n=2\n",
    "\n",
    "# Subset for mask\n",
    "mask = (\n",
    "    imagery_wide[\"base\"].isin(base_list) &\n",
    "    imagery_wide[\"country\"].isin(country_list)\n",
    ")\n",
    "cols = [\"country\", \"base\", \"brand\"]\n",
    "data = imagery_wide.copy().loc[mask, [*cols, *attr]]\n",
    "cols_united = unite_cols(data, cols)\n",
    "data.set_index(cols_united, inplace=True)\n",
    "data.drop(columns=cols, inplace=True)\n",
    "data\n",
    "\n",
    "# Apply PCA\n",
    "idx_n = [\"pc\" + i.astype(str) for i in np.arange(0,n)] \n",
    "pca = PCA(n_components=n)\n",
    "principalComponents = pca.fit_transform(data)\n",
    "print(f\"Explained variance by PC: {pca.explained_variance_ratio_} = {pca.explained_variance_ratio_.sum()}\")\n",
    "\n",
    "# # Process output\n",
    "output = pd.DataFrame(abs(pca.components_), columns=attr, index=idx_n).reset_index()\n",
    "output = output.melt(id_vars=\"index\")\n",
    "output = output.groupby([\"variable\"]).max(\"value\").reset_index().sort_values(\"value\", ascending=False)\n",
    "output[\"rank\"] = output[\"value\"].rank(ascending=False)\n",
    "output\n",
    "\n",
    "# then return output"
   ]
  },
  {
   "cell_type": "code",
   "execution_count": null,
   "id": "3bccdd7d-50d2-4b6f-8918-f8d45565a0ca",
   "metadata": {},
   "outputs": [],
   "source": [
    "[col for col in cols if col is not in [\"metric_name\", \"value\"]]"
   ]
  },
  {
   "cell_type": "code",
   "execution_count": null,
   "id": "47b7e158-5af6-45d3-ba36-f9ef0a95ab8e",
   "metadata": {},
   "outputs": [],
   "source": []
  },
  {
   "cell_type": "code",
   "execution_count": null,
   "id": "079cd413-eb91-4235-bec4-3de01ad2878f",
   "metadata": {},
   "outputs": [],
   "source": [
    "pca_output = []"
   ]
  },
  {
   "cell_type": "code",
   "execution_count": null,
   "id": "d974e908-ea8f-4140-aa77-faedfa733fc5",
   "metadata": {},
   "outputs": [],
   "source": [
    "# What is important for customers of all brands, in Australia\n",
    "mask = (\n",
    "    (brandscape[\"metric_group\"] == \"Imagery\") & \n",
    "    (brandscape[\"metric_var\"] == \"percentage\") & \n",
    "    (brandscape[\"base\"] == \"1_All Adults\") &\n",
    "    (brandscape[\"country\"] == \"Australia\")\n",
    ")\n",
    "pca_output.append(apply_pca(brandscape, mask, idx_cols=[\"country\", \"base\", \"brand\"]).reset_index(drop=True).assign(grp = \"allbrands_Australia\"))"
   ]
  },
  {
   "cell_type": "code",
   "execution_count": null,
   "id": "e85090c1-d1d3-4b40-8686-ce5e879df3be",
   "metadata": {},
   "outputs": [],
   "source": [
    "# What is important for customers of all brands, in the USA\n",
    "mask = (\n",
    "    (brandscape[\"metric_group\"] == \"Imagery\") & \n",
    "    (brandscape[\"metric_var\"] == \"percentage\") & \n",
    "    (brandscape[\"base\"] == \"1_All Adults\") &\n",
    "    (brandscape[\"country\"] == \"USA\")\n",
    ")\n",
    "pca_output.append(apply_pca(brandscape, mask, idx_cols=[\"country\", \"base\", \"brand\"]).reset_index(drop=True).assign(grp = \"allbrands_USA\"))"
   ]
  },
  {
   "cell_type": "code",
   "execution_count": null,
   "id": "a52a5b01-99f3-4883-8172-44c43cd7cd38",
   "metadata": {},
   "outputs": [],
   "source": [
    "# What is important for customers of all brands\n",
    "mask = (\n",
    "    (brandscape[\"metric_group\"] == \"Imagery\") & \n",
    "    (brandscape[\"metric_var\"] == \"percentage\") & \n",
    "    (brandscape[\"base\"] == \"1_All Adults\")\n",
    ")\n",
    "pca_output.append(apply_pca(brandscape, mask, idx_cols=[\"country\", \"base\", \"brand\"]).reset_index(drop=True).assign(grp = \"allbrands_both\"))"
   ]
  },
  {
   "cell_type": "code",
   "execution_count": null,
   "id": "8084d526-e294-4149-9281-dc1bfe06cf1b",
   "metadata": {},
   "outputs": [],
   "source": [
    "# What is important for female customers of all brands?\n",
    "mask = (\n",
    "    (brandscape[\"metric_group\"] == \"Imagery\") & \n",
    "    (brandscape[\"metric_var\"] == \"percentage\") & \n",
    "    (brandscape[\"base\"] == \"3_Female\")\n",
    ")\n",
    "pca_output.append(apply_pca(brandscape, mask, idx_cols=[\"country\", \"base\", \"brand\"]).reset_index(drop=True).assign(grp = \"allbrands_female\"))"
   ]
  },
  {
   "cell_type": "code",
   "execution_count": null,
   "id": "f3e172ff-c7f8-4f65-b940-bc13218f4d6c",
   "metadata": {},
   "outputs": [],
   "source": [
    "# What is important for male customers of all brands?\n",
    "mask = (\n",
    "    (brandscape[\"metric_group\"] == \"Imagery\") & \n",
    "    (brandscape[\"metric_var\"] == \"percentage\") & \n",
    "    (brandscape[\"base\"] == \"2_Male\")\n",
    ")\n",
    "pca_output.append(apply_pca(brandscape, mask, idx_cols=[\"country\", \"base\", \"brand\"]).reset_index(drop=True).assign(grp = \"allbrands_male\"))"
   ]
  },
  {
   "cell_type": "code",
   "execution_count": null,
   "id": "3564bf2b-0ee7-416b-a7aa-19bf46716fe3",
   "metadata": {},
   "outputs": [],
   "source": [
    "# What is important for Toyota customers\n",
    "mask = (\n",
    "    (brandscape[\"metric_group\"] == \"Imagery\") & \n",
    "    (brandscape[\"metric_var\"] == \"percentage\") & \n",
    "    (brandscape[\"base\"] == \"1_All Adults\") & \n",
    "    (brandscape[\"brand\"] == \"Toyota\")\n",
    ")\n",
    "pca_output.append(apply_pca(brandscape, mask, idx_cols=[\"country\", \"base\", \"brand\"]).reset_index(drop=True).assign(grp = \"allbrands_toyota\"))"
   ]
  },
  {
   "cell_type": "code",
   "execution_count": null,
   "id": "88e45c4f-95d8-43bc-b9c1-c423c98739d5",
   "metadata": {},
   "outputs": [],
   "source": [
    "# What is important for Ford customers\n",
    "mask = (\n",
    "    (brandscape[\"metric_group\"] == \"Imagery\") & \n",
    "    (brandscape[\"metric_var\"] == \"percentage\") & \n",
    "    (brandscape[\"base\"] == \"1_All Adults\") & \n",
    "    (brandscape[\"brand\"] == \"Ford\")\n",
    ")\n",
    "pca_output.append(apply_pca(brandscape, mask, idx_cols=[\"country\", \"base\", \"brand\"]).reset_index(drop=True).assign(grp = \"allbrands_ford\"))"
   ]
  },
  {
   "cell_type": "code",
   "execution_count": null,
   "id": "87ec07f2-d394-4783-be6d-f94dee4f68a2",
   "metadata": {},
   "outputs": [],
   "source": [
    "pd.concat(pca_output).to_csv(\"imagery_PCA.csv\")"
   ]
  }
 ],
 "metadata": {
  "kernelspec": {
   "display_name": "Python 3 (ipykernel)",
   "language": "python",
   "name": "python3"
  },
  "language_info": {
   "codemirror_mode": {
    "name": "ipython",
    "version": 3
   },
   "file_extension": ".py",
   "mimetype": "text/x-python",
   "name": "python",
   "nbconvert_exporter": "python",
   "pygments_lexer": "ipython3",
   "version": "3.10.4"
  }
 },
 "nbformat": 4,
 "nbformat_minor": 5
}
