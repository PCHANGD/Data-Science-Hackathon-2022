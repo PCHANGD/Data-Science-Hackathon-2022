{
 "cells": [
  {
   "cell_type": "code",
   "execution_count": null,
   "id": "efad4456-8dcf-47be-a5dd-f35d7ede1f84",
   "metadata": {},
   "outputs": [],
   "source": [
    "import pandas as pd\n",
    "import numpy as np \n",
    "import os\n",
    "import ast\n",
    "\n",
    "import plotly.express as px\n",
    "import plotly.io as pio\n",
    "\n",
    "pd.options.plotting.backend = \"plotly\"\n",
    "pio.templates.default = \"plotly_white\""
   ]
  },
  {
   "cell_type": "code",
   "execution_count": null,
   "id": "b98da3bd-a451-4062-babe-04eac9ee2b56",
   "metadata": {},
   "outputs": [],
   "source": [
    "wd = \"/Users/annie.quinn/git/ford-hackathon/personal/annie/AO21\""
   ]
  },
  {
   "cell_type": "code",
   "execution_count": null,
   "id": "812653d4-9a9b-433c-b775-62e1d4a27a07",
   "metadata": {},
   "outputs": [],
   "source": [
    "# Get filtered audience origin data\n",
    "# Focus on wave 1 - higher number of responses for deep dive\n",
    "data = pd.read_csv(os.path.join(wd, \"ao_data.csv\"), index_col=0)\n",
    "data = data.loc[data[\"Quarter\"] == 1]\n",
    "data"
   ]
  },
  {
   "cell_type": "code",
   "execution_count": null,
   "id": "7cba7648-39fc-4029-b02f-e096141e821a",
   "metadata": {},
   "outputs": [],
   "source": [
    "# Get tabled meta data\n",
    "col_desc_values = pd.read_csv(os.path.join(wd, \"ao_col_desc_values.csv\"), index_col=0)\n",
    "col_desc_values.dropna(inplace=True)\n",
    "col_desc_values = col_desc_values.loc[col_desc_values[\"col\"].isin(data.columns)]\n",
    "col_desc_values.reset_index(drop=True, inplace=True)\n",
    "col_desc_values"
   ]
  },
  {
   "cell_type": "code",
   "execution_count": null,
   "id": "5da8029d-bd34-4dd9-822a-a133b87849d4",
   "metadata": {},
   "outputs": [],
   "source": [
    "cols_constant = [\"Market\"]\n",
    "cols_grp = [\"Q01_NET\", \"Q02\"]\n",
    "col_pop = \"Core_Projection_Online\"\n",
    "cols_cat_purchase = [\"PUR03_2_46\", \"PUR03_2_53\"]\n",
    "cols_tp_noticed = col_desc_values.loc[col_desc_values[\"description\"].str.contains(\"Touchpoints noticed | A car\", regex=False), \"col\"].values.tolist()\n",
    "cols_tp_helped = col_desc_values.loc[col_desc_values[\"description\"].str.contains(\"Touchpoints helped | A car\", regex=False), \"col\"].values.tolist()\n",
    "cols_tp = [*cols_tp_noticed, *cols_tp_helped]\n",
    "\n",
    "cols = [*cols_constant, *cols_grp, col_pop, *cols_cat_purchase, *cols_tp]\n",
    "\n",
    "df = data[cols]\n",
    "idx = df[cols_tp].dropna(how=\"all\").index\n",
    "df = df.loc[idx]\n",
    "\n",
    "df.isnull().sum().sum() # Should be zero"
   ]
  },
  {
   "cell_type": "code",
   "execution_count": null,
   "id": "7e3d655e-668c-4b32-8018-d72cc37ab191",
   "metadata": {},
   "outputs": [],
   "source": [
    "df"
   ]
  },
  {
   "cell_type": "code",
   "execution_count": null,
   "id": "00228f7e-896c-4fbc-a620-a49474b85eeb",
   "metadata": {},
   "outputs": [],
   "source": [
    "# If helped is selected, noticed must also be selected\n",
    "tp_suffixes = [x[5:] for x in df.columns[df.columns.str.startswith(\"TP02\")].values.tolist()]\n",
    "tp_suffixes\n",
    "\n",
    "for suffix in tp_suffixes:\n",
    "    cols_suffix = df.columns[df.columns.str.endswith(suffix)]\n",
    "    if len(cols_suffix) != 2: \n",
    "        print(suffix)\n",
    "    else: \n",
    "        tp02 = cols_suffix[cols_suffix.str.startswith(\"TP02\")].values[0]\n",
    "        tp03 = cols_suffix[cols_suffix.str.startswith(\"TP03\")].values[0]\n",
    "        mask = df[tp03] > df[tp02]\n",
    "        df.loc[mask, tp02] = 1"
   ]
  },
  {
   "cell_type": "code",
   "execution_count": null,
   "id": "b77a3bf3-25d4-4095-ae91-4fc38048aa7b",
   "metadata": {},
   "outputs": [],
   "source": [
    "# Remap each column\n",
    "for col in cols:\n",
    "    if col != col_pop:\n",
    "        mapping = ast.literal_eval(col_desc_values.loc[col_desc_values[\"col\"] == col, \"values\"].values[0])\n",
    "        df[col] = df[col].replace(mapping)"
   ]
  },
  {
   "cell_type": "code",
   "execution_count": null,
   "id": "dcc9cae1-2c71-4738-9a58-e782e419b653",
   "metadata": {},
   "outputs": [],
   "source": [
    "# Reshape\n",
    "df_long = df.melt(id_vars = [*cols_constant, *cols_grp, col_pop, *cols_cat_purchase])\n",
    "\n",
    "# Add car type\n",
    "df_long[\"car_type\"] = np.where(df_long[\"PUR03_2_46\"]==\"Selected\", \"new\", \"second_hand\")\n",
    "df_long.drop(columns=cols_cat_purchase, inplace=True)\n",
    "\n",
    "# Aggregate data\n",
    "df_long = (\n",
    "    df_long\n",
    "    .groupby([*cols_constant, *cols_grp, \"car_type\", \"variable\", \"value\"])\n",
    "    [col_pop].sum().reset_index()\n",
    "    .rename(columns={col_pop:\"pop\"})\n",
    ")\n",
    "df_long"
   ]
  },
  {
   "cell_type": "code",
   "execution_count": null,
   "id": "8568d574-2f0c-4798-b0f8-380b22796c52",
   "metadata": {},
   "outputs": [],
   "source": [
    "# Simplify vars\n",
    "map_col_desc = dict(zip(col_desc_values[\"col\"], col_desc_values[\"description\"]))\n",
    "df_long[\"variable_str\"] = df_long[\"variable\"].replace(map_col_desc)\n",
    "df_long[[\"var1\", \"var2\", \"var3\"]] = df_long[\"variable_str\"].str.split(\" | \", regex=False, expand=True)\n",
    "\n",
    "map_age = dict(zip(df_long[\"Q01_NET\"].unique().tolist(), [\"<35\", \"<35\", \">35\", \">35\", \">35\"]))\n",
    "df_long[\"age\"] = df_long[\"Q01_NET\"].replace(map_age)\n",
    "\n",
    "#df_long[\"age_sex\"]\n",
    "for idx, row in df_long.iterrows():\n",
    "    df_long.loc[idx, \"age_sex\"] = row[\"Q02\"] + \" \" + row[\"age\"]\n",
    "\n",
    "df_long"
   ]
  },
  {
   "cell_type": "code",
   "execution_count": null,
   "id": "ea5b3bf1-cb8a-4a4d-81a3-72bbd1e51d08",
   "metadata": {},
   "outputs": [],
   "source": [
    "# Tidy and reaggregate\n",
    "df_long = (\n",
    "    df_long\n",
    "    [[\"Market\", \"car_type\", \"variable\", \"var1\", \"var3\", \"age_sex\", \"value\", \"pop\"]]\n",
    "    .groupby([\"Market\", \"car_type\", \"variable\", \"var1\", \"var3\", \"age_sex\", \"value\"])\n",
    "    [\"pop\"].sum().reset_index()\n",
    ")\n",
    "df_long.to_csv(\"AO21/AO_data_tidy.csv\")\n",
    "df_long"
   ]
  },
  {
   "cell_type": "markdown",
   "id": "b804e3ea-e139-4fb2-bad1-a5e9d53e7aef",
   "metadata": {},
   "source": [
    "-----"
   ]
  },
  {
   "cell_type": "code",
   "execution_count": null,
   "id": "0c421ec7-216f-4fcd-a0a4-d9b7e56123cd",
   "metadata": {},
   "outputs": [],
   "source": [
    "# Percent buying NEW cars? # USE THIS FIGURE\n",
    "(\n",
    "    df_long\n",
    "    .groupby([\"Market\", \"car_type\"])\n",
    "    [\"pop\"].sum().reset_index()\n",
    "    .assign(pct = lambda d: d[\"pop\"] / d.groupby([\"Market\"])[\"pop\"].transform(\"sum\") * 100)\n",
    "    .plot.bar(x = \"Market\", y = \"pct\", color = \"car_type\", barmode = \"group\", text = \"pct\")\n",
    ")"
   ]
  },
  {
   "cell_type": "code",
   "execution_count": null,
   "id": "5a766cda-a743-41c7-824d-e133f8ea90c8",
   "metadata": {},
   "outputs": [],
   "source": [
    "df_long = df_long.copy().loc[df_long[\"car_type\"] == \"new\"] # Override, focus on new only"
   ]
  },
  {
   "cell_type": "code",
   "execution_count": null,
   "id": "77d56f73-a17e-4331-afb9-0f0799069e54",
   "metadata": {},
   "outputs": [],
   "source": [
    "# WHO is buying the new cars # USE THIS FIGURE\n",
    "(\n",
    "    df_long.groupby([\"Market\", \"age_sex\"])[\"pop\"].sum().reset_index()\n",
    "    .assign(pct = lambda d: d[\"pop\"] / d.groupby([\"Market\"])[\"pop\"].transform(\"sum\") * 100)\n",
    "    .plot.bar(x = \"Market\", y = \"pct\", color = \"age_sex\", barmode=\"group\", text = \"pct\")\n",
    ")"
   ]
  },
  {
   "cell_type": "code",
   "execution_count": null,
   "id": "d7486b9d-f467-4579-aef7-34d3b5c5e41b",
   "metadata": {},
   "outputs": [],
   "source": [
    "# Touchpoints, percent, aggregated"
   ]
  },
  {
   "cell_type": "code",
   "execution_count": null,
   "id": "6bc7e778-f484-41c3-8450-ce22307690fb",
   "metadata": {},
   "outputs": [],
   "source": [
    "tp_pct = (\n",
    "    df_long\n",
    "    .groupby([\"Market\", \"var1\", \"var3\", \"value\"])\n",
    "    [\"pop\"].sum().reset_index()\n",
    "    .pivot(index = [\"Market\", \"var1\", \"var3\"], columns = \"value\", values = \"pop\")\n",
    "    .reset_index()\n",
    "    .assign(\n",
    "        pct = lambda d: d[\"Selected\"] / (d[\"Selected\"] + d[\"Not selected\"]) * 100,\n",
    "        rank = lambda d: d.groupby([\"Market\", \"var1\"])[\"pct\"].rank(ascending=False)\n",
    "    )\n",
    ")"
   ]
  },
  {
   "cell_type": "code",
   "execution_count": null,
   "id": "afed99a6-3cb4-4131-aaf4-c8db5b25e733",
   "metadata": {},
   "outputs": [],
   "source": [
    "(\n",
    "    tp_pct\n",
    "    .plot.bar(x = \"var3\", y = \"pct\", facet_col = \"Market\", facet_row = \"var1\", text = \"rank\")\n",
    "    .update_layout(height=800)\n",
    ")"
   ]
  },
  {
   "cell_type": "code",
   "execution_count": null,
   "id": "4503ff30-519c-4d83-802c-3179e9184501",
   "metadata": {},
   "outputs": [],
   "source": [
    "(\n",
    "    tp_pct\n",
    "    .query(\"rank <= 5\")\n",
    "    .plot.bar(x = \"var3\", y = \"pct\", facet_col = \"Market\", facet_row = \"var1\", text = \"rank\")\n",
    "    .update_layout(height=800)\n",
    ")"
   ]
  },
  {
   "cell_type": "code",
   "execution_count": null,
   "id": "394d7754-50a6-47e5-a1fd-8ee5c93995e4",
   "metadata": {},
   "outputs": [],
   "source": [
    "# Translation from noticed to helped\n",
    "(\n",
    "    tp_pct\n",
    "    .pivot(index = [\"Market\", \"var3\"], columns = \"var1\", values = \"pct\").reset_index()\n",
    "    .plot.scatter(x = \"Touchpoints noticed\", y = \"Touchpoints helped\", color = \"var3\", facet_col = \"Market\")\n",
    "    .update_layout(height=800)\n",
    "    .update_traces(marker = dict(size=15))\n",
    ")"
   ]
  },
  {
   "cell_type": "code",
   "execution_count": null,
   "id": "c056b9ed-3a4a-4068-9f97-827e19e4dda5",
   "metadata": {},
   "outputs": [],
   "source": [
    "tp_pct.plot(x = \"var1\", y = \"pct\", color = \"var3\", facet_col = \"Market\", category_orders = {\"var1\": [\"Touchpoints noticed\", \"Touchpoints helped\"]}).update_layout(height = 800)"
   ]
  },
  {
   "cell_type": "code",
   "execution_count": null,
   "id": "8e3a801b-211f-4f61-b20d-501e8ffa5b15",
   "metadata": {},
   "outputs": [],
   "source": [
    "# conversions, the ratio of conversions to interactions, i.e. the ratio of noticed to helped\n",
    "tp_pct"
   ]
  },
  {
   "cell_type": "code",
   "execution_count": null,
   "id": "7b0fd0fa-6c1b-40b7-8242-01c6fd1ee819",
   "metadata": {},
   "outputs": [],
   "source": [
    "# conversions, the ratio of conversions to interactions, i.e. the ratio of noticed to helped  # USE THIS FIGURE\n",
    "((\n",
    "    tp_pct.pivot(index = [\"Market\", \"var3\"], columns = \"var1\", values = \"Selected\").reset_index()\n",
    "    .assign(conversion_rate = lambda d: d[\"Touchpoints helped\"] / d[\"Touchpoints noticed\"] * 100)\n",
    ").merge(tp_pct.query(\"var1=='Touchpoints noticed'\")[[\"Market\", \"var3\", \"pct\", \"rank\"]])\n",
    "    .plot.scatter(x = \"conversion_rate\", y = \"pct\", color= \"var3\", facet_col = \"Market\")\n",
    "    .update_layout(height=800)\n",
    ")"
   ]
  },
  {
   "cell_type": "code",
   "execution_count": null,
   "id": "96513a0b-00d7-4e2d-85b5-d20a286eaf74",
   "metadata": {},
   "outputs": [],
   "source": [
    "# Touchpoint, percent, age group\n",
    "tp_pct = (\n",
    "    df_long\n",
    "    .groupby([\"Market\", \"age_sex\", \"var1\", \"var3\", \"value\"])\n",
    "    [\"pop\"].sum().reset_index()\n",
    "    .pivot(index = [\"Market\", \"var1\", \"var3\", \"age_sex\"], columns = \"value\", values = \"pop\")\n",
    "    .reset_index()\n",
    "    .assign(\n",
    "        pct = lambda d: d[\"Selected\"] / (d[\"Selected\"] + d[\"Not selected\"]) * 100,\n",
    "        rank = lambda d: d.groupby([\"Market\", \"var1\", \"age_sex\"])[\"pct\"].rank(ascending=False)\n",
    "    )\n",
    ")"
   ]
  },
  {
   "cell_type": "code",
   "execution_count": null,
   "id": "0f4a93b5-65e8-41da-91d8-49450b56d6c0",
   "metadata": {},
   "outputs": [],
   "source": [
    "(\n",
    "    tp_pct\n",
    "    .plot.bar(x = \"var3\", y = \"pct\", facet_col = \"Market\", facet_row = \"var1\", text = \"rank\", color = \"age_sex\", barmode = \"group\")\n",
    "    .update_layout(height=800)\n",
    ")"
   ]
  },
  {
   "cell_type": "code",
   "execution_count": null,
   "id": "ed6542d2-4d38-40f3-a700-b19a3e0e1f83",
   "metadata": {},
   "outputs": [],
   "source": [
    "(\n",
    "    tp_pct\n",
    "    .query(\"rank <= 5\")\n",
    "    .plot.bar(x = \"var3\", y = \"pct\", facet_col = \"Market\", facet_row = \"var1\", text = \"rank\", color = \"age_sex\", barmode = \"group\")\n",
    "    .update_layout(height=800)\n",
    ")"
   ]
  },
  {
   "cell_type": "code",
   "execution_count": null,
   "id": "0c5a1a32-c022-41b6-9ee2-792e809aef16",
   "metadata": {},
   "outputs": [],
   "source": [
    "(\n",
    "    tp_pct\n",
    "    .query(\"rank <= 3\")\n",
    "    .plot.bar(x = \"var3\", y = \"pct\", facet_col = \"Market\", facet_row = \"var1\", text = \"rank\", color = \"age_sex\", barmode = \"group\")\n",
    "    .update_layout(height=800)\n",
    ")"
   ]
  },
  {
   "cell_type": "code",
   "execution_count": null,
   "id": "c1d510ed-4f2f-4df8-9b64-c27379ef5ac0",
   "metadata": {},
   "outputs": [],
   "source": [
    "# Translation from noticed to helped # USE THIS, HIGHLIGHT RANKS\n",
    "(\n",
    "    tp_pct\n",
    "    .pivot(index = [\"Market\", \"var3\", \"age_sex\"], columns = \"var1\", values = \"pct\").reset_index()\n",
    "    .plot.scatter(x = \"Touchpoints noticed\", y = \"Touchpoints helped\", color = \"var3\", facet_col = \"Market\", facet_row = \"age_sex\")\n",
    "    .update_layout(height=1200)\n",
    "    .update_traces(marker = dict(size=15))\n",
    ")"
   ]
  },
  {
   "cell_type": "code",
   "execution_count": null,
   "id": "0613ddd5-1d28-45bb-a762-8cffda3fcd8b",
   "metadata": {},
   "outputs": [],
   "source": []
  }
 ],
 "metadata": {
  "kernelspec": {
   "display_name": "Python 3 (ipykernel)",
   "language": "python",
   "name": "python3"
  },
  "language_info": {
   "codemirror_mode": {
    "name": "ipython",
    "version": 3
   },
   "file_extension": ".py",
   "mimetype": "text/x-python",
   "name": "python",
   "nbconvert_exporter": "python",
   "pygments_lexer": "ipython3",
   "version": "3.10.4"
  }
 },
 "nbformat": 4,
 "nbformat_minor": 5
}
