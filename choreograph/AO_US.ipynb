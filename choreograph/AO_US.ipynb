{
 "cells": [
  {
   "cell_type": "code",
   "execution_count": null,
   "id": "c0b4a6f4",
   "metadata": {},
   "outputs": [],
   "source": [
    "import pandas as pd\n",
    "import pyreadstat\n",
    "import numpy as np\n",
    "import os\n",
    "import matplotlib.pyplot as plt\n",
    "from sklearn.feature_selection import mutual_info_classif\n",
    "\n",
    "import plotly.express as px\n",
    "import plotly.io as pio\n",
    "\n",
    "pd.options.plotting.backend = \"plotly\"\n",
    "pio.templates.default = \"plotly_white\""
   ]
  },
  {
   "cell_type": "markdown",
   "id": "42628449",
   "metadata": {},
   "source": [
    "# Load data"
   ]
  },
  {
   "cell_type": "code",
   "execution_count": null,
   "id": "eac4125e",
   "metadata": {},
   "outputs": [],
   "source": [
    "out_git_repo = '/Users/annie.quinn/git/ford-hackathon/personal/annie/AO21/' #####\n",
    "spec_file_name_w1 = 'AO21 SPSS Spec v8.5.xlsx'\n",
    "spec_file_name_w2 = 'AO21_w2 SPSS Spec v1.xlsx'\n",
    "data_file_name_w1 = 'AO21W1_US.csv'\n",
    "data_file_name_w2 = 'AO21W2_US_V1_20220121_IDs-2.csv'\n",
    "data_map_file_name = 'levels_Dictionary AO21_W1_UK_V1.xlsx'"
   ]
  },
  {
   "cell_type": "code",
   "execution_count": null,
   "id": "f346ccea-6b3c-4cd3-b4b7-f3a6c761b36d",
   "metadata": {},
   "outputs": [],
   "source": [
    "# Focus on W1, largest car buying population with complete survey responses"
   ]
  },
  {
   "cell_type": "code",
   "execution_count": null,
   "id": "ca7da616",
   "metadata": {},
   "outputs": [],
   "source": [
    "inputData_path = out_git_repo #####"
   ]
  },
  {
   "cell_type": "code",
   "execution_count": null,
   "id": "32027fb5",
   "metadata": {},
   "outputs": [],
   "source": [
    "data_map = pd.read_excel(inputData_path + data_map_file_name, sheet_name='Variable Information')"
   ]
  },
  {
   "cell_type": "code",
   "execution_count": null,
   "id": "ece4fe13",
   "metadata": {},
   "outputs": [],
   "source": [
    "spec_file_w1 = pd.read_excel(inputData_path + spec_file_name_w1, sheet_name='SPSS spec')\n",
    "spec_file_w2 = pd.read_excel(inputData_path + spec_file_name_w2, sheet_name='SPSS spec')"
   ]
  },
  {
   "cell_type": "code",
   "execution_count": null,
   "id": "11b727f1",
   "metadata": {},
   "outputs": [],
   "source": [
    "labels_w1 = list(spec_file_w1['Label'])\n",
    "labels_w2 = list(spec_file_w2['Label'])"
   ]
  },
  {
   "cell_type": "code",
   "execution_count": null,
   "id": "8a22f35f",
   "metadata": {},
   "outputs": [],
   "source": [
    "data_w1 = pd.read_csv(inputData_path + data_file_name_w1)\n",
    "data_w2 = pd.read_csv(inputData_path + data_file_name_w2)"
   ]
  },
  {
   "cell_type": "code",
   "execution_count": null,
   "id": "aa8f86aa",
   "metadata": {},
   "outputs": [],
   "source": [
    "#don't count na as a unique value\n",
    "data_w1 = data_w1.replace({\" \": None})\n",
    "data_w2 = data_w2.replace({\" \": None})\n",
    "data_w1 = data_w1.apply(pd.to_numeric, errors='ignore')\n",
    "data_w2 = data_w2.apply(pd.to_numeric, errors='ignore')"
   ]
  },
  {
   "cell_type": "code",
   "execution_count": null,
   "id": "541ab128-dc99-412e-a786-72feca5d9a88",
   "metadata": {},
   "outputs": [],
   "source": [
    "data_w1_bought_car = data_w1.loc[((data_w1[\"PUR03_2_46\"] == 1) | (data_w1[\"PUR03_2_53\"] == 1)) & (data_w1[\"HV_Section\"] == 2)]\n",
    "data_w1_bought_car"
   ]
  },
  {
   "cell_type": "markdown",
   "id": "94e1736e",
   "metadata": {},
   "source": [
    "# Clean labels"
   ]
  },
  {
   "cell_type": "code",
   "execution_count": null,
   "id": "27f46968",
   "metadata": {},
   "outputs": [],
   "source": [
    "labels = data_map[['Variable', 'Label']]"
   ]
  },
  {
   "cell_type": "code",
   "execution_count": null,
   "id": "1a7505bd",
   "metadata": {},
   "outputs": [],
   "source": [
    "# Use str.split and str.join and astype\n",
    "#labels['Cleaned label'] = labels['Label'].str.split('|')\n",
    "labels.loc['Cleaned label'] = labels['Label'].str.split('|')"
   ]
  },
  {
   "cell_type": "markdown",
   "id": "eab2c276",
   "metadata": {},
   "source": [
    "# Create file of car variables"
   ]
  },
  {
   "cell_type": "code",
   "execution_count": null,
   "id": "fe3c39ac",
   "metadata": {},
   "outputs": [],
   "source": [
    "car_cols_w1 = spec_file_w1[spec_file_w1['Label'].str.contains(\"car\", case=False, na=False)]\n",
    "car_cols_w2 = spec_file_w2[spec_file_w2['Label'].str.contains(\"car\", case=False, na=False)]"
   ]
  },
  {
   "cell_type": "code",
   "execution_count": null,
   "id": "c38a908b",
   "metadata": {},
   "outputs": [],
   "source": [
    "#elimniate variables related to skincare and financials (typically loans which maybe for a car or car insurance)\n",
    "car_cols_w1 = car_cols_w1[~car_cols_w1['Label'].str.contains(('care|financials|petrol'), case=False, na=False)]\n",
    "car_cols_w2 = car_cols_w2[~car_cols_w2['Label'].str.contains(('care|financials|petrol'), case=False, na=False)]\n",
    "with pd.option_context('display.max_rows', None, 'display.max_columns', None):\n",
    "    print(car_cols_w1.shape)\n",
    "    print(car_cols_w2.shape)"
   ]
  },
  {
   "cell_type": "code",
   "execution_count": null,
   "id": "3bb961a9",
   "metadata": {},
   "outputs": [],
   "source": [
    "car_purchase_w1 = car_cols_w1[car_cols_w1['Label'].str.contains(('purchase|bought'), case=False, na=False)]\n",
    "car_purchase_w2 = car_cols_w2[car_cols_w2['Label'].str.contains(('purchase|bought'), case=False, na=False)]"
   ]
  },
  {
   "cell_type": "code",
   "execution_count": null,
   "id": "4ddbcf6e",
   "metadata": {},
   "outputs": [],
   "source": [
    "new_car_w1 = car_purchase_w1[car_purchase_w1['Label'].str.contains('new', case=False, na=False)]\n",
    "new_car_w1"
   ]
  },
  {
   "cell_type": "code",
   "execution_count": null,
   "id": "7de3571d",
   "metadata": {},
   "outputs": [],
   "source": [
    "new_car_w2 = car_purchase_w2[car_purchase_w2['Label'].str.contains('new', case=False, na=False)]\n",
    "new_car_w2"
   ]
  },
  {
   "cell_type": "code",
   "execution_count": null,
   "id": "5d36c3ee",
   "metadata": {},
   "outputs": [],
   "source": [
    "used_car_w1 = car_purchase_w1[car_purchase_w1['Label'].str.contains('second', case=False, na=False)]\n",
    "used_car_w1"
   ]
  },
  {
   "cell_type": "code",
   "execution_count": null,
   "id": "3c0e68ac",
   "metadata": {},
   "outputs": [],
   "source": [
    "used_car_w2 = car_purchase_w2[car_purchase_w2['Label'].str.contains('second', case=False, na=False)]\n",
    "used_car_w2"
   ]
  },
  {
   "cell_type": "code",
   "execution_count": null,
   "id": "2097836f",
   "metadata": {},
   "outputs": [],
   "source": [
    "#details on age of car bought not specified\n",
    "just_car_w1 = car_purchase_w1[~car_purchase_w1['Label'].str.contains(('new|second|insurance'), case=False, na=False)]\n",
    "just_car_w1"
   ]
  },
  {
   "cell_type": "code",
   "execution_count": null,
   "id": "b3c14231",
   "metadata": {},
   "outputs": [],
   "source": [
    "#details on age of car bought not specified\n",
    "just_car_w2 = car_purchase_w2[~car_purchase_w2['Label'].str.contains(('new|second|insurance'), case=False, na=False)]\n",
    "just_car_w2"
   ]
  },
  {
   "cell_type": "code",
   "execution_count": null,
   "id": "1a6d466e",
   "metadata": {},
   "outputs": [],
   "source": [
    "online_purchase_w1 = car_purchase_w1[car_purchase_w1['Label'].str.contains('online', case=False, na=False)]\n",
    "online_purchase_w1"
   ]
  },
  {
   "cell_type": "code",
   "execution_count": null,
   "id": "f946e464",
   "metadata": {},
   "outputs": [],
   "source": [
    "online_purchase_w2 = car_purchase_w2[car_purchase_w2['Label'].str.contains('online', case=False, na=False)]\n",
    "online_purchase_w2"
   ]
  },
  {
   "cell_type": "markdown",
   "id": "873b4a5c",
   "metadata": {},
   "source": [
    "# Touchpoints"
   ]
  },
  {
   "cell_type": "code",
   "execution_count": null,
   "id": "f690147e",
   "metadata": {},
   "outputs": [],
   "source": [
    "car_touchpoints_w1 = car_cols_w1[car_cols_w1['Label'].str.contains(\"Touchpoints\")]\n",
    "car_touchpoints_w2 = car_cols_w2[car_cols_w2['Label'].str.contains(\"Touchpoints\")]"
   ]
  },
  {
   "cell_type": "code",
   "execution_count": null,
   "id": "cee539f3",
   "metadata": {},
   "outputs": [],
   "source": [
    "sorted(car_touchpoints_w1) == sorted(car_touchpoints_w2)"
   ]
  },
  {
   "cell_type": "code",
   "execution_count": null,
   "id": "fecf4229",
   "metadata": {},
   "outputs": [],
   "source": [
    "car_touchpoints = car_touchpoints_w1"
   ]
  },
  {
   "cell_type": "code",
   "execution_count": null,
   "id": "f4708f9c",
   "metadata": {},
   "outputs": [],
   "source": [
    "touchpoints_helped = car_touchpoints[car_touchpoints_w1['Label'].str.contains(\"helped\")]\n",
    "touchpoints_helped"
   ]
  },
  {
   "cell_type": "code",
   "execution_count": null,
   "id": "984a8eae",
   "metadata": {},
   "outputs": [],
   "source": [
    "touchpoints_noticed = car_touchpoints[car_touchpoints['Label'].str.contains(\"noticed\")]\n",
    "touchpoints_noticed"
   ]
  },
  {
   "cell_type": "code",
   "execution_count": null,
   "id": "d20fddeb",
   "metadata": {},
   "outputs": [],
   "source": [
    "touchpoints_helped_data_w1 = reduced_data_w1[list(touchpoints_helped['Variable new'])]\n",
    "touchpoints_helped_data_w2 = reduced_data_w2[list(touchpoints_helped['Variable new'])]"
   ]
  },
  {
   "cell_type": "code",
   "execution_count": null,
   "id": "b83e8acf",
   "metadata": {},
   "outputs": [],
   "source": [
    "touchpoints_noticed_data_w1 = reduced_data_w1[list(touchpoints_noticed['Variable new'])]\n",
    "touchpoints_noticed_data_w2 = reduced_data_w2[list(touchpoints_noticed['Variable new'])]"
   ]
  },
  {
   "cell_type": "code",
   "execution_count": null,
   "id": "5976bf90",
   "metadata": {},
   "outputs": [],
   "source": [
    "touchpoints_noticed_data_w1"
   ]
  },
  {
   "cell_type": "markdown",
   "id": "253f131b",
   "metadata": {},
   "source": [
    "nan density for tp considering filters"
   ]
  },
  {
   "cell_type": "code",
   "execution_count": null,
   "id": "536a9fde",
   "metadata": {},
   "outputs": [],
   "source": [
    "car_touchpoints_data_w1 = reduced_data_w1[list(car_touchpoints['Variable new'])]\n",
    "car_touchpoints_data_w2 = reduced_data_w2[list(car_touchpoints['Variable new'])]"
   ]
  },
  {
   "cell_type": "code",
   "execution_count": null,
   "id": "1386cad0",
   "metadata": {},
   "outputs": [],
   "source": [
    "# check the values of \n",
    "# each row for each column\n",
    "car_touchpoints_data_w1.agg(['size', 'count', 'nunique'])"
   ]
  },
  {
   "cell_type": "code",
   "execution_count": null,
   "id": "fc4ef0bf",
   "metadata": {},
   "outputs": [],
   "source": [
    "car_touchpoints_data_w2.agg(['size', 'count', 'nunique'])"
   ]
  },
  {
   "cell_type": "code",
   "execution_count": null,
   "id": "0d7735c0",
   "metadata": {},
   "outputs": [],
   "source": [
    "touchpoints_noticed_data_w1.apply(pd.value_counts).sort_values(by = 1, axis = 1, ascending=False)"
   ]
  },
  {
   "cell_type": "code",
   "execution_count": null,
   "id": "eee9dd30",
   "metadata": {},
   "outputs": [],
   "source": [
    "touchpoints_helped_data_w1.apply(pd.value_counts).sort_values(by = 1, axis = 1, ascending=False)"
   ]
  },
  {
   "cell_type": "code",
   "execution_count": null,
   "id": "3f443869",
   "metadata": {},
   "outputs": [],
   "source": [
    "#(car_touchpoints_data_w2.apply(pd.value_counts)).sort_values(by = 1.0, axis = 1, ascending=False)"
   ]
  },
  {
   "cell_type": "code",
   "execution_count": null,
   "id": "94b2a149",
   "metadata": {},
   "outputs": [],
   "source": [
    "not_selected = list((touchpoints_noticed_data_w1.apply(pd.value_counts)).iloc[0])\n",
    "selected = list((touchpoints_noticed_data_w1.apply(pd.value_counts)).iloc[1])\n",
    "index = (touchpoints_noticed_data_w1.apply(pd.value_counts)).columns\n",
    "df = pd.DataFrame({'Not selected': not_selected,\n",
    "                   'Selected': selected}, index=index)\n",
    "ax = df.plot.bar(stacked=True)\n",
    "plt.title(\"Touchpoints noticed\")\n",
    "plt.legend()\n",
    "\n",
    "\n",
    "plt.savefig('touchpoints_noticed.pdf', bbox_inches='tight')\n",
    "plt.show()"
   ]
  },
  {
   "cell_type": "code",
   "execution_count": null,
   "id": "b375b739-b536-4c56-b11c-41b591f38729",
   "metadata": {},
   "outputs": [],
   "source": [
    "data_w1[\"dummy\"] = 0 # For instances with no grouping variable\n",
    "\n",
    "def pop_across_cols(data_w1, cols, col_multiplier=\"OA_Projection\", cols_grp = [\"Q02\"]):\n",
    "    \n",
    "    cols_grp = [\"dummy\", *cols_grp]\n",
    "\n",
    "    # Get idx of rows with data and subset\n",
    "    idx = data_w1[cols].dropna(how=\"all\").index.values\n",
    "    subset = data_w1.copy().loc[idx, [*cols_grp, *cols]]\n",
    "\n",
    "    # Get population multiplier and apply\n",
    "    multiplier = data_w1.loc[idx, col_multiplier].values\n",
    "    multiplier = multiplier.reshape(len(multiplier),1)\n",
    "\n",
    "    # Sum pop per var per group\n",
    "    subset[cols] = (subset[cols] * multiplier)\n",
    "    pop_summed = subset.groupby(cols_grp)[cols].sum().reset_index()\n",
    "\n",
    "    # Sum pop per group\n",
    "    pop = data_w1.loc[idx, [col_multiplier, *cols_grp]]\n",
    "    pop = pop.groupby(cols_grp)[col_multiplier].sum().reset_index()\n",
    "    pop_divisor_by_grp = pop[col_multiplier].values\n",
    "    \n",
    "    # Output\n",
    "    pop_summed[\"pop\"] = pop_divisor_by_grp\n",
    "    output = pop_summed.melt(id_vars=[*cols_grp, \"pop\"], value_name=\"pop_selected\")\n",
    "    output.drop(columns=\"dummy\", inplace=True)\n",
    "\n",
    "    return output\n",
    "\n",
    "pop_across_cols(data_w1_bought_car, cols = touchpoints_noticed['Variable new'])\n",
    "pop_across_cols(data_w1_bought_car, cols = touchpoints_helped['Variable new'])"
   ]
  },
  {
   "cell_type": "code",
   "execution_count": null,
   "id": "a2535329-de0f-4c7d-9121-e17b636ade2d",
   "metadata": {},
   "outputs": [],
   "source": []
  },
  {
   "cell_type": "code",
   "execution_count": null,
   "id": "bfed316d-6eb7-42d1-9418-9fae8cd31459",
   "metadata": {},
   "outputs": [],
   "source": []
  },
  {
   "cell_type": "code",
   "execution_count": null,
   "id": "30a4f6e2-9379-42a3-a3a8-45a0ccf271bd",
   "metadata": {},
   "outputs": [],
   "source": []
  },
  {
   "cell_type": "code",
   "execution_count": null,
   "id": "604713a1-87c2-42c3-a859-7af2cdc9a7aa",
   "metadata": {},
   "outputs": [],
   "source": []
  },
  {
   "cell_type": "code",
   "execution_count": null,
   "id": "e2745b67-8d3d-40fc-a476-be879a8373a5",
   "metadata": {},
   "outputs": [],
   "source": [
    "data_map = data_map.dropna()\n",
    "data_map.loc[data_map[\"Label\"].str.startswith(\"Category purchase | Last 12 months | New car\") | data_map[\"Label\"].str.startswith(\"Category purchase | Last 12 months | Second hand car\")]"
   ]
  },
  {
   "cell_type": "code",
   "execution_count": null,
   "id": "dc446479-af09-4e61-8682-652d61ce9b8c",
   "metadata": {},
   "outputs": [],
   "source": []
  },
  {
   "cell_type": "code",
   "execution_count": null,
   "id": "8c5c2b49",
   "metadata": {},
   "outputs": [],
   "source": [
    "(data_map[data_map['Variable'] == 'TP02_046_001']).Label"
   ]
  },
  {
   "cell_type": "code",
   "execution_count": null,
   "id": "9a1bdfa7",
   "metadata": {},
   "outputs": [],
   "source": [
    "not_selected = list((touchpoints_helped_data_w1.apply(pd.value_counts)).iloc[0])\n",
    "selected = list((touchpoints_helped_data_w1.apply(pd.value_counts)).iloc[1])\n",
    "index = (touchpoints_helped_data_w1.apply(pd.value_counts)).columns\n",
    "df = pd.DataFrame({'Not selected': not_selected,\n",
    "                   'Selected': selected}, index=index)\n",
    "ax = df.plot.bar(stacked=True)\n",
    "plt.title(\"Touchpoints helped\")\n",
    "\n",
    "plt.savefig('touchpoints_helped.pdf', bbox_inches='tight')\n",
    "plt.show()"
   ]
  },
  {
   "cell_type": "code",
   "execution_count": null,
   "id": "3a23517e",
   "metadata": {},
   "outputs": [],
   "source": [
    "(data_map[data_map['Variable'] == 'TP03_046_010']).Label"
   ]
  },
  {
   "cell_type": "markdown",
   "id": "c83f38f6",
   "metadata": {},
   "source": [
    "# Average spend"
   ]
  },
  {
   "cell_type": "code",
   "execution_count": null,
   "id": "006ea6e9",
   "metadata": {},
   "outputs": [],
   "source": [
    "#Note: average spend in wave 1 is in TOOLS split\n",
    "average_spend_w1 = car_cols_w1[car_cols_w1['Label'].str.contains(\"spend\", case=False, na=False)]\n",
    "average_spend_w1 = average_spend_w1[~average_spend_w1['Label'].str.contains('selection', case=False, na=False)]\n",
    "#Note: average spend in wave 2 is in E-COMMERCE DEEP DIVE\n",
    "average_spend_w2 = car_cols_w2[car_cols_w2['Label'].str.contains(\"spend\", case=False, na=False)]\n",
    "average_spend_w2 = average_spend_w2[~average_spend_w2['Label'].str.contains('selection', case=False, na=False)]"
   ]
  },
  {
   "cell_type": "code",
   "execution_count": null,
   "id": "23df3bf8",
   "metadata": {},
   "outputs": [],
   "source": [
    "average_spend_data_w1 = reduced_data_w1[list(average_spend_w1['Variable new'])]\n",
    "average_spend_data_w2 = reduced_data_w2[list(average_spend_w2['Variable new'])]"
   ]
  },
  {
   "cell_type": "code",
   "execution_count": null,
   "id": "8bcc44fd",
   "metadata": {},
   "outputs": [],
   "source": [
    "#Note: average spend is continuous\n",
    "average_spend_data_w1.agg(['size', 'count', 'nunique'])"
   ]
  },
  {
   "cell_type": "code",
   "execution_count": null,
   "id": "01ea64d6",
   "metadata": {},
   "outputs": [],
   "source": [
    "selected_rows = average_spend_data_w1.PUR04_46[~(average_spend_data_w1.PUR04_46).isnull()]\n",
    "selected_rows"
   ]
  },
  {
   "cell_type": "code",
   "execution_count": null,
   "id": "6281601f",
   "metadata": {},
   "outputs": [],
   "source": [
    "import seaborn as sns\n",
    "sns.distplot(average_spend_data_w1.PUR04_46, label='new car', color='darkblue')\n",
    "sns.distplot(average_spend_data_w1.PUR04_53, label='second hand car', color='red')\n",
    "plt.xlabel('Average spend')\n",
    "plt.ylabel('Density')\n",
    "plt.legend()\n",
    "plt.tight_layout(h_pad=2.5)"
   ]
  },
  {
   "cell_type": "code",
   "execution_count": null,
   "id": "aa3ae064",
   "metadata": {},
   "outputs": [],
   "source": [
    "average_spend_data_w2.agg(['size', 'count', 'nunique'])"
   ]
  },
  {
   "cell_type": "markdown",
   "id": "2b7bcd96",
   "metadata": {},
   "source": [
    "# E-commerce"
   ]
  },
  {
   "cell_type": "code",
   "execution_count": null,
   "id": "7f83e1fb",
   "metadata": {},
   "outputs": [],
   "source": [
    "#Note: E-COMMERCE in wave 1 is in E-COMMERCE DEEP DIVE split\n",
    "online_purchase_data_w1 = reduced_data_w1[list(online_purchase_w1['Variable new'])]\n",
    "#Note: E-COMMERCE in wave 2 is in CORE split\n",
    "online_purchase_data_w2 = reduced_data_w2[list(online_purchase_w2['Variable new'])]"
   ]
  },
  {
   "cell_type": "code",
   "execution_count": null,
   "id": "39e65c7b",
   "metadata": {},
   "outputs": [],
   "source": [
    "online_purchase_data_w1.agg(['size', 'count', 'nunique'])"
   ]
  },
  {
   "cell_type": "code",
   "execution_count": null,
   "id": "c8d65ac8",
   "metadata": {},
   "outputs": [],
   "source": [
    "online_purchase_data_w1.apply(pd.value_counts)"
   ]
  },
  {
   "cell_type": "code",
   "execution_count": null,
   "id": "144bf834",
   "metadata": {},
   "outputs": [],
   "source": [
    "online_purchase_data_w2.agg(['size', 'count', 'nunique'])"
   ]
  },
  {
   "cell_type": "code",
   "execution_count": null,
   "id": "d6e463b1",
   "metadata": {},
   "outputs": [],
   "source": [
    "online_purchase_data_w2.apply(pd.value_counts)"
   ]
  },
  {
   "cell_type": "markdown",
   "id": "776fb334",
   "metadata": {},
   "source": [
    "# When was the car bought?"
   ]
  },
  {
   "cell_type": "code",
   "execution_count": null,
   "id": "f372a5c7",
   "metadata": {},
   "outputs": [],
   "source": [
    "used_car_data_w1 = reduced_data_w1[list(used_car_w1['Variable new'])]\n",
    "new_car_data_w1 = reduced_data_w1[list(new_car_w1['Variable new'])]\n",
    "just_car_data_w1 = reduced_data_w1[list(just_car_w1['Variable new'])]\n",
    "used_car_data_w2 = reduced_data_w2[list(used_car_w2['Variable new'])]\n",
    "new_car_data_w2 = reduced_data_w2[list(new_car_w2['Variable new'])]\n",
    "just_car_data_w2 = reduced_data_w2[list(just_car_w2['Variable new'])]"
   ]
  },
  {
   "cell_type": "code",
   "execution_count": null,
   "id": "aa4465a0",
   "metadata": {},
   "outputs": [],
   "source": [
    "frames_w1 = [new_car_data_w1, used_car_data_w1, just_car_data_w1]\n",
    "result_w1 = pd.concat(frames_w1, axis=1)\n",
    "result_w1 = result_w1.loc[:,~result_w1.columns.duplicated()]\n",
    "result_w1"
   ]
  },
  {
   "cell_type": "code",
   "execution_count": null,
   "id": "820b70a8",
   "metadata": {},
   "outputs": [],
   "source": [
    "frames_w2 = [new_car_data_w2, used_car_data_w2, just_car_data_w2]\n",
    "result_w2 = pd.concat(frames_w2, axis=1)\n",
    "result_w2 = result_w2.loc[:,~result_w2.columns.duplicated()]"
   ]
  },
  {
   "cell_type": "code",
   "execution_count": null,
   "id": "b97aca73",
   "metadata": {},
   "outputs": [],
   "source": [
    "Description = {}\n",
    "for var in result_w1.columns:\n",
    "#(data_map[data_map['Variable'].isin(result.columns)]).Label\n",
    "    Description[var] = (data_map[data_map['Variable'] == var]).Label\n",
    "Description"
   ]
  },
  {
   "cell_type": "code",
   "execution_count": null,
   "id": "47150576",
   "metadata": {},
   "outputs": [],
   "source": [
    "new_car_data_w1.apply(pd.value_counts)"
   ]
  },
  {
   "cell_type": "code",
   "execution_count": null,
   "id": "b9915ced",
   "metadata": {},
   "outputs": [],
   "source": [
    "result_w1.sum(axis = 0, skipna = True)\n",
    "#Expected:\n",
    "#sum(PUR03_1_46, PUR03_2_46, PUR03_1_53, PUR03_2_53) = sum(result['PUR03_1_46'])"
   ]
  },
  {
   "cell_type": "code",
   "execution_count": null,
   "id": "347f8be7",
   "metadata": {},
   "outputs": [],
   "source": [
    "print(sum(result_w1['PUR03_1_46']) + sum(result_w1['PUR03_2_46']) + sum(result_w1['PUR03_1_53']) + sum(result_w1['PUR03_2_53']))\n",
    "print(sum(result_w1['DEM12_03']))#+ sum(result['RISK_05']))"
   ]
  },
  {
   "cell_type": "code",
   "execution_count": null,
   "id": "e2678ca6",
   "metadata": {},
   "outputs": [],
   "source": [
    "result_w2.sum(axis = 0, skipna = True)"
   ]
  },
  {
   "cell_type": "code",
   "execution_count": null,
   "id": "202d471e",
   "metadata": {},
   "outputs": [],
   "source": [
    "print(sum(result_w2['PUR03_1_46']) + sum(result_w2['PUR03_2_46']) + sum(result_w2['PUR03_1_53']) + sum(result_w2['PUR03_2_53']))\n",
    "print(sum(result_w2['DEM12_03']))#+ sum(result['RISK_05']))"
   ]
  },
  {
   "cell_type": "markdown",
   "id": "3d1211d9",
   "metadata": {},
   "source": [
    "# CORE variables that can be used as predictors\n",
    "Note: Predictors must be CORE variables because touchpoints are DEEP DIVE to ensure that the same people have been asked both types of questions. TOOLS variables cannot be used as predictors for DEEP DIVE because they are not asked to the same people."
   ]
  },
  {
   "cell_type": "code",
   "execution_count": null,
   "id": "4b8b0787",
   "metadata": {},
   "outputs": [],
   "source": [
    "core_variables_w1 = (spec_file_w1.loc[spec_file_w1['Split'] == 'CORE'])['Variable new']\n",
    "core_variables_w2 = (spec_file_w2.loc[spec_file_w2['Split'] == 'CORE'])['Variable new']"
   ]
  },
  {
   "cell_type": "code",
   "execution_count": null,
   "id": "c3475f3d",
   "metadata": {},
   "outputs": [],
   "source": [
    "#dropping variables related to how the questionare was done\n",
    "core_data_w1 = reduced_data_w1.loc[:, reduced_data_w1.columns.isin(core_variables_w1)]\n",
    "core_data_w2 = reduced_data_w2.loc[:, reduced_data_w2.columns.isin(core_variables_w1)]\n",
    "core_data_w1"
   ]
  },
  {
   "cell_type": "code",
   "execution_count": null,
   "id": "0e27fc2d",
   "metadata": {},
   "outputs": [],
   "source": [
    "reduced_data_w1['Lifestage_01'].agg(['size', 'count', 'nunique'])"
   ]
  },
  {
   "cell_type": "code",
   "execution_count": null,
   "id": "b9607dd7",
   "metadata": {},
   "outputs": [],
   "source": [
    "#CORE variables that are related to personality\n",
    "attitudes_variables_w1 = [x for x in core_data_w1.columns if (\"QP04_\" in x) and x not in ['QP04_52','QP04_53']]\n",
    "interests_variables_w1 = [x for x in core_data_w1.columns if (\"QP05_\" in x)]\n",
    "hobbies_variables_w1 = [x for x in core_data_w1.columns if (\"HOB01_\" in x)]\n",
    "#CORE variables that are related to income\n",
    "income_variables_w1 = ([x for x in core_data_w1.columns if (\"DEM08_\" in x)]\n",
    "                      +['DEM06','DEM10_US','DEM10_ALL'])\n",
    "#demographic variables that are not in spec file. Possible because they are calculated a\n",
    "#rather than asked directly\n",
    "non_core_dems_w1 = ([x for x in data_w1.columns if (\"Lifestage_\" in x)]\n",
    " + ['AUD_Generations','Q01_NET','Q01_NET_1','Q03_NET'])"
   ]
  },
  {
   "cell_type": "code",
   "execution_count": null,
   "id": "45e35857",
   "metadata": {},
   "outputs": [],
   "source": [
    "attitudes_data_w1 = core_data_w1.loc[:, core_data_w1.columns.isin(attitudes_variables_w1)]\n",
    "interests_data_w1 = core_data_w1.loc[:, core_data_w1.columns.isin(interests_variables_w1)]\n",
    "hobbies_data_w1 = core_data_w1.loc[:, core_data_w1.columns.isin(hobbies_variables_w1)]\n",
    "income_data_w1 = core_data_w1.loc[:, core_data_w1.columns.isin(income_variables_w1)]\n",
    "non_core_dems_data_w1 = reduced_data_w1.loc[:, reduced_data_w1.columns.isin(non_core_dems_w1)]"
   ]
  },
  {
   "cell_type": "markdown",
   "id": "98b171fa",
   "metadata": {},
   "source": [
    "# Importance samplaing - random forest"
   ]
  },
  {
   "cell_type": "code",
   "execution_count": null,
   "id": "94799bf8",
   "metadata": {},
   "outputs": [],
   "source": [
    "#importance sampling for the chosen target variable 'PUR03_2_46'\n",
    "#using sklearn's RandomForestClassifier\n",
    "#%run -i '/Users/tunrayo.adeleke-lar/OneDrive - insidemedia.net/Documents/ford_hackathon/importance_sampling.py'"
   ]
  },
  {
   "cell_type": "markdown",
   "id": "cb7a18fd",
   "metadata": {},
   "source": [
    "# Importance sampling - mutual information criterion"
   ]
  },
  {
   "cell_type": "code",
   "execution_count": null,
   "id": "ba818781",
   "metadata": {},
   "outputs": [],
   "source": [
    "#data_w1['TP02_046_001']"
   ]
  },
  {
   "cell_type": "code",
   "execution_count": null,
   "id": "8b828c28",
   "metadata": {},
   "outputs": [],
   "source": [
    "#org_data_w1 = org_data_w1.apply(pd.to_numeric, errors='ignore')\n",
    "#threshold = 5  # the number of most relevant features\n",
    "#high_score_features = []\n",
    "#feature_scores = mutual_info_classif(non_core_dems_data_w1, org_data_w1['TP02_046_001'], random_state=42)\n",
    "#for score, f_name in sorted(zip(feature_scores, non_core_dems_data_w1.columns), reverse=True)[:threshold]:\n",
    "#        print(f_name, score)\n",
    "#        high_score_features.append(f_name)\n",
    "#non_core_dems_mis = non_core_dems_data_w1[high_score_features]\n",
    "#print(non_core_dems_mis.columns)"
   ]
  },
  {
   "cell_type": "code",
   "execution_count": null,
   "id": "838b59d3",
   "metadata": {},
   "outputs": [],
   "source": [
    "#org_data_w1 = org_data_w1.apply(pd.to_numeric, errors='ignore')\n",
    "#tps_noticed_top3_w1 = ['TP02_046_001','TP02_046_007','TP02_046_010','TP02_046_004']\n",
    "#tps_helped_top3_w1 = ['TP03_046_010','TP03_046_011','TP03_046_012']\n",
    "#threshold = 5  # the number of most relevant features"
   ]
  },
  {
   "cell_type": "code",
   "execution_count": null,
   "id": "11f8ed0c",
   "metadata": {},
   "outputs": [],
   "source": [
    "tps_noticed_top3_w1 = list(touchpoints_noticed_data_w1.apply(pd.value_counts).sort_values(by = 1, axis = 1, ascending=False).iloc[:, 0:4].columns)\n",
    "tps_helped_top3_w1 = list(touchpoints_helped_data_w1.apply(pd.value_counts).sort_values(by = 1, axis = 1, ascending=False).iloc[:, 0:4].columns)\n",
    "threshold = 5  # the number of most relevant features"
   ]
  },
  {
   "cell_type": "code",
   "execution_count": null,
   "id": "22034610",
   "metadata": {},
   "outputs": [],
   "source": [
    "high_score_features_tpn = []\n",
    "for tpn in tps_noticed_top3_w1:\n",
    "    feature_scores = mutual_info_classif(non_core_dems_data_w1, data_w1[tpn], random_state=42)\n",
    "    for score, f_name in sorted(zip(feature_scores, non_core_dems_data_w1.columns), reverse=True)[:threshold]:\n",
    "            print(f_name, score)\n",
    "            high_score_features_tph.append(f_name)\n",
    "    non_core_dems_mis = non_core_dems_data_w1[high_score_features_tpn]"
   ]
  },
  {
   "cell_type": "code",
   "execution_count": null,
   "id": "0f35782c",
   "metadata": {},
   "outputs": [],
   "source": [
    "high_score_features_tph = []\n",
    "for tph in tps_helped_top3_w1:\n",
    "    feature_scores = mutual_info_classif(non_core_dems_data_w1, org_data_w1[tph], random_state=42)\n",
    "    for score, f_name in sorted(zip(feature_scores, non_core_dems_data_w1.columns), reverse=True)[:threshold]:\n",
    "            print(f_name, score)\n",
    "            high_score_features_tph.append(f_name)\n",
    "    non_core_dems_mis = non_core_dems_data_w1[high_score_features_tph]"
   ]
  },
  {
   "cell_type": "code",
   "execution_count": null,
   "id": "5761dd63",
   "metadata": {},
   "outputs": [],
   "source": [
    "type(org_data_w1[income_data_w1.columns])"
   ]
  },
  {
   "cell_type": "code",
   "execution_count": null,
   "id": "3c6ebb23",
   "metadata": {},
   "outputs": [],
   "source": [
    "high_score_features_tpn = []\n",
    "for tpn in tps_noticed_top3_w1:\n",
    "    feature_scores = mutual_info_classif(income_data_w1, org_data_w1[tpn], random_state=42)\n",
    "    for score, f_name in sorted(zip(feature_scores, income_data_w1.columns), reverse=True)[:threshold]:\n",
    "            print(f_name, score)\n",
    "            high_score_features.append(f_name)\n",
    "    personality_mis = income_data_w1[high_score_features]\n",
    "    #print(non_core_dems_mis.columns)"
   ]
  },
  {
   "cell_type": "code",
   "execution_count": null,
   "id": "dd981ab1",
   "metadata": {},
   "outputs": [],
   "source": []
  },
  {
   "cell_type": "markdown",
   "id": "f980d51b",
   "metadata": {},
   "source": [
    "# Groups: definition"
   ]
  },
  {
   "cell_type": "code",
   "execution_count": null,
   "id": "c20b0bb8",
   "metadata": {},
   "outputs": [],
   "source": [
    "def categorise_age(row):  \n",
    "    if row['Q01'] < 35:\n",
    "        return 0\n",
    "    else:\n",
    "        return 1"
   ]
  },
  {
   "cell_type": "code",
   "execution_count": null,
   "id": "b576a8f2",
   "metadata": {},
   "outputs": [],
   "source": [
    "data_w1['age > 35'] = data_w1.apply(lambda row: categorise_age(row), axis=1)\n",
    "data_w2['age > 35'] = data_w2.apply(lambda row: categorise_age(row), axis=1)"
   ]
  },
  {
   "cell_type": "code",
   "execution_count": null,
   "id": "7d0b1007",
   "metadata": {},
   "outputs": [],
   "source": [
    "# set valid mask\n",
    "#nan_mask = np.isnan(data_w1)\n",
    "#valid_mask = ~nan_mask\n",
    "\n",
    "# create a result array\n",
    "#result = np.full(data_w1.shape, np.nan)\n",
    "\n",
    "# assign only valid cases to \n",
    "#result[valid_mask] = normalizer.fit_transform(data[valid_mask].reshape(-1,1)).reshape(data[valid_mask].shape)"
   ]
  },
  {
   "cell_type": "code",
   "execution_count": null,
   "id": "af9afafe",
   "metadata": {},
   "outputs": [],
   "source": [
    "#male:1\n",
    "#female:2\n",
    "#age< 35:0\n",
    "#age>35:1\n",
    "age_gender = data_w1[['age > 35', 'Q02']]\n",
    "age_gender_w2 = data_w2[['age > 35', 'Q02']]\n",
    "#(1,0): male & age< 35\n",
    "#(1,1):  male & age> 35\n",
    "#(2,0): female & age< 35\n",
    "#(2,1):  female & age> 35"
   ]
  },
  {
   "cell_type": "code",
   "execution_count": null,
   "id": "5863a410",
   "metadata": {},
   "outputs": [],
   "source": [
    "men_over = list(np.where((age_gender['age > 35'] == 1) & (age_gender['Q02'] == 1))[0])\n",
    "men_under = list(np.where((age_gender['age > 35'] == 0) & (age_gender['Q02'] == 1))[0])\n",
    "women_over = list(np.where((age_gender['age > 35'] == 1) & (age_gender['Q02'] == 2))[0])\n",
    "women_under = list(np.where((age_gender['age > 35'] == 0) & (age_gender['Q02'] == 2))[0])"
   ]
  },
  {
   "cell_type": "code",
   "execution_count": null,
   "id": "65847d91",
   "metadata": {},
   "outputs": [],
   "source": [
    "men_over_w2 = list(np.where((age_gender_w2['age > 35'] == 1) & (age_gender_w2['Q02'] == 1))[0])\n",
    "men_under_w2 = list(np.where((age_gender_w2['age > 35'] == 0) & (age_gender_w2['Q02'] == 1))[0])\n",
    "women_over_w2 = list(np.where((age_gender_w2['age > 35'] == 1) & (age_gender_w2['Q02'] == 2))[0])\n",
    "women_under_w2 = list(np.where((age_gender_w2['age > 35'] == 0) & (age_gender_w2['Q02'] == 2))[0])"
   ]
  },
  {
   "cell_type": "markdown",
   "id": "0dbec728",
   "metadata": {},
   "source": [
    "# Groups: touchpoints"
   ]
  },
  {
   "cell_type": "code",
   "execution_count": null,
   "id": "1494d6e6",
   "metadata": {},
   "outputs": [],
   "source": [
    "tpn_labels = (data_map[data_map['Variable'].isin(list(touchpoints_noticed_data_w1.columns))])[['Variable', 'Label']]\n",
    "tph_labels = (data_map[data_map['Variable'].isin(list(touchpoints_helped_data_w1.columns))])[['Variable', 'Label']]"
   ]
  },
  {
   "cell_type": "code",
   "execution_count": null,
   "id": "6af152cc",
   "metadata": {},
   "outputs": [],
   "source": [
    "tp_labels = pd.concat([tpn_labels, tph_labels], ignore_index=True)\n",
    "#tp_labels"
   ]
  },
  {
   "cell_type": "code",
   "execution_count": null,
   "id": "0320aef2",
   "metadata": {},
   "outputs": [],
   "source": [
    "# Use str.split and str.join and astype\n",
    "tp_labels['Cleaned label'] = tp_labels['Label'].str.split('|')\n",
    "#print(tp_labels['Cleaned label'])\n",
    "names_only = []\n",
    "for l in tp_labels['Cleaned label']:\n",
    "    names_only.append(l[2])"
   ]
  },
  {
   "cell_type": "code",
   "execution_count": null,
   "id": "00831d48",
   "metadata": {},
   "outputs": [],
   "source": [
    "tp_labels['Description'] = pd.DataFrame(names_only)"
   ]
  },
  {
   "cell_type": "code",
   "execution_count": null,
   "id": "32221c8b",
   "metadata": {},
   "outputs": [],
   "source": [
    "tp_labels = tp_labels.drop(columns='Cleaned label', axis=1)"
   ]
  },
  {
   "cell_type": "code",
   "execution_count": null,
   "id": "2a1441a9",
   "metadata": {},
   "outputs": [],
   "source": [
    "touchpoints_noticed_data_w1.columns = list(tp_labels['Description'][0:len(list(touchpoints_noticed_data_w1.columns))])"
   ]
  },
  {
   "cell_type": "code",
   "execution_count": null,
   "id": "55825efd",
   "metadata": {},
   "outputs": [],
   "source": [
    "touchpoints_helped_data_w1.columns = list(tp_labels['Description'][0:len(list(touchpoints_helped_data_w1.columns))])"
   ]
  },
  {
   "cell_type": "code",
   "execution_count": null,
   "id": "2779c134",
   "metadata": {},
   "outputs": [],
   "source": [
    "#not_selected = list((touchpoints_noticed_data_w1.iloc[men_over].apply(pd.value_counts)).iloc[0])\n",
    "selected = list((touchpoints_noticed_data_w1.iloc[men_over].apply(pd.value_counts)).iloc[1])\n",
    "index = (touchpoints_noticed_data_w1.iloc[men_over].apply(pd.value_counts)).columns\n",
    "df = pd.DataFrame({'Selected': selected}, index=index)\n",
    "ax = df.plot.bar(legend=False)\n",
    "plt.title(\"Touchpoints noticed: Men over 35\")\n",
    "#plt.legend(bbox_to_anchor = (1.05, 0.6))\n",
    "\n",
    "\n",
    "plt.savefig('touchpoints_noticed_men_over.pdf', bbox_inches='tight')\n",
    "plt.show()"
   ]
  },
  {
   "cell_type": "code",
   "execution_count": null,
   "id": "eee30442",
   "metadata": {},
   "outputs": [],
   "source": [
    "#not_selected = list((touchpoints_helped_data_w1.iloc[men_over].apply(pd.value_counts)).iloc[0])\n",
    "selected = list((touchpoints_helped_data_w1.iloc[men_over].apply(pd.value_counts)).iloc[1])\n",
    "index = (touchpoints_helped_data_w1.iloc[men_over].apply(pd.value_counts)).columns\n",
    "df = pd.DataFrame({'Selected': selected}, index=index)\n",
    "ax = df.plot.bar(legend=False)\n",
    "plt.title(\"Touchpoints helped: Men over 35\")\n",
    "#plt.legend(bbox_to_anchor = (1.05, 0.6))\n",
    "\n",
    "\n",
    "plt.savefig('touchpoints_helped_men_over.pdf', bbox_inches='tight')\n",
    "plt.show()"
   ]
  },
  {
   "cell_type": "code",
   "execution_count": null,
   "id": "4c345ca5",
   "metadata": {},
   "outputs": [],
   "source": [
    "#not_selected = list((touchpoints_noticed_data_w1.iloc[men_under].apply(pd.value_counts)).iloc[0])\n",
    "selected = list((touchpoints_noticed_data_w1.iloc[men_under].apply(pd.value_counts)).iloc[1])\n",
    "index = (touchpoints_noticed_data_w1.iloc[men_under].apply(pd.value_counts)).columns\n",
    "df = pd.DataFrame({'Selected': selected}, index=index)\n",
    "ax = df.plot.bar(legend=False)\n",
    "plt.title(\"Touchpoints noticed: Men under 35\")\n",
    "#plt.legend(bbox_to_anchor = (1.05, 0.6))\n",
    "\n",
    "\n",
    "plt.savefig('touchpoints_noticed_men_under.pdf', bbox_inches='tight')\n",
    "plt.show()"
   ]
  },
  {
   "cell_type": "code",
   "execution_count": null,
   "id": "cc6950f6",
   "metadata": {},
   "outputs": [],
   "source": [
    "not_selected = list((touchpoints_helped_data_w1.iloc[men_under].apply(pd.value_counts)).iloc[0])\n",
    "selected = list((touchpoints_helped_data_w1.iloc[men_under].apply(pd.value_counts)).iloc[1])\n",
    "index = (touchpoints_helped_data_w1.iloc[men_under].apply(pd.value_counts)).columns\n",
    "df = pd.DataFrame({'Selected': selected}, index=index)\n",
    "ax = df.plot.bar(legend=False)\n",
    "plt.title(\"Touchpoints helped: Men under 35\")\n",
    "\n",
    "plt.savefig('touchpoints_helped_men_under.pdf', bbox_inches='tight')\n",
    "plt.show()"
   ]
  },
  {
   "cell_type": "code",
   "execution_count": null,
   "id": "4039c586",
   "metadata": {},
   "outputs": [],
   "source": [
    "not_selected = list((touchpoints_noticed_data_w1.iloc[women_over].apply(pd.value_counts)).iloc[0])\n",
    "selected = list((touchpoints_noticed_data_w1.iloc[women_over].apply(pd.value_counts)).iloc[1])\n",
    "index = (touchpoints_noticed_data_w1.iloc[women_over].apply(pd.value_counts)).columns\n",
    "df = pd.DataFrame({'Selected': selected}, index=index)\n",
    "ax = df.plot.bar(legend=False)\n",
    "plt.title(\"Touchpoints noticed: Women over 35\")\n",
    "\n",
    "plt.savefig('touchpoints_noticed_women_over.pdf', bbox_inches='tight')\n",
    "plt.show()"
   ]
  },
  {
   "cell_type": "code",
   "execution_count": null,
   "id": "14575090",
   "metadata": {},
   "outputs": [],
   "source": [
    "not_selected = list((touchpoints_helped_data_w1.iloc[women_over].apply(pd.value_counts)).iloc[0])\n",
    "selected = list((touchpoints_helped_data_w1.iloc[women_over].apply(pd.value_counts)).iloc[1])\n",
    "index = (touchpoints_helped_data_w1.iloc[women_over].apply(pd.value_counts)).columns\n",
    "df = pd.DataFrame({'Selected': selected}, index=index)\n",
    "ax = df.plot.bar(legend=False)\n",
    "plt.title(\"Touchpoints helped: Women over 35\")\n",
    "\n",
    "plt.savefig('touchpoints_helped_women_over.pdf', bbox_inches='tight')\n",
    "plt.show()"
   ]
  },
  {
   "cell_type": "code",
   "execution_count": null,
   "id": "753fd1ac",
   "metadata": {},
   "outputs": [],
   "source": [
    "not_selected = list((touchpoints_noticed_data_w1.iloc[women_under].apply(pd.value_counts)).iloc[0])\n",
    "selected = list((touchpoints_noticed_data_w1.iloc[women_under].apply(pd.value_counts)).iloc[1])\n",
    "index = (touchpoints_noticed_data_w1.iloc[women_under].apply(pd.value_counts)).columns\n",
    "df = pd.DataFrame({'Selected': selected}, index=index)\n",
    "ax = df.plot.bar(legend=False)\n",
    "plt.title(\"Touchpoints noticed: Women under 35\")\n",
    "\n",
    "plt.savefig('touchpoints_noticed_women_under.pdf', bbox_inches='tight')\n",
    "plt.show()"
   ]
  },
  {
   "cell_type": "code",
   "execution_count": null,
   "id": "4262bd57",
   "metadata": {},
   "outputs": [],
   "source": [
    "not_selected = list((touchpoints_helped_data_w1.iloc[women_under].apply(pd.value_counts)).iloc[0])\n",
    "selected = list((touchpoints_helped_data_w1.iloc[women_under].apply(pd.value_counts)).iloc[1])\n",
    "index = (touchpoints_helped_data_w1.iloc[women_under].apply(pd.value_counts)).columns\n",
    "df = pd.DataFrame({'Selected': selected}, index=index)\n",
    "ax = df.plot.bar(legend=False)\n",
    "plt.title(\"Touchpoints helped: Women under 35\")\n",
    "\n",
    "plt.savefig('touchpoints_helped_women_under.pdf', bbox_inches='tight')\n",
    "plt.show()"
   ]
  },
  {
   "cell_type": "code",
   "execution_count": null,
   "id": "7c6a1d96",
   "metadata": {},
   "outputs": [],
   "source": [
    "top5_noticed_men_over = list(touchpoints_noticed_data_w1.iloc[men_over].apply(pd.value_counts).sort_values(by = 1, axis = 1, ascending=False).columns)[0:5]\n",
    "top5_noticed_men_under = list(touchpoints_noticed_data_w1.iloc[men_under].apply(pd.value_counts).sort_values(by = 1, axis = 1, ascending=False).columns)[0:5]\n",
    "top5_noticed_women_over = list(touchpoints_noticed_data_w1.iloc[women_over].apply(pd.value_counts).sort_values(by = 1, axis = 1, ascending=False).columns)[0:5]\n",
    "top5_noticed_women_under = list(touchpoints_noticed_data_w1.iloc[women_under].apply(pd.value_counts).sort_values(by = 1, axis = 1, ascending=False).columns)[0:5]\n",
    "pd.DataFrame([top5_noticed_men_over, top5_noticed_men_under, top5_noticed_women_over, top5_noticed_women_under], index = ['men over 35', 'men under 35', 'women over 35', 'women under 35'])"
   ]
  },
  {
   "cell_type": "code",
   "execution_count": null,
   "id": "0cac0e93",
   "metadata": {},
   "outputs": [],
   "source": [
    "top5_helped_men_over = list(touchpoints_helped_data_w1.iloc[men_over].apply(pd.value_counts).sort_values(by = 1, axis = 1, ascending=False).columns)[0:5]\n",
    "top5_helped_men_under = list(touchpoints_helped_data_w1.iloc[men_under].apply(pd.value_counts).sort_values(by = 1, axis = 1, ascending=False).columns)[0:5]\n",
    "top5_helped_women_over = list(touchpoints_helped_data_w1.iloc[women_over].apply(pd.value_counts).sort_values(by = 1, axis = 1, ascending=False).columns)[0:5]\n",
    "top5_helped_women_under = list(touchpoints_helped_data_w1.iloc[women_under].apply(pd.value_counts).sort_values(by = 1, axis = 1, ascending=False).columns)[0:5]\n",
    "pd.DataFrame([top5_helped_men_over, top5_helped_men_under, top5_helped_women_over, top5_helped_women_under], index = ['men over 35', 'men under 35', 'women over 35', 'women under 35'])"
   ]
  },
  {
   "cell_type": "markdown",
   "id": "720bd6e6",
   "metadata": {},
   "source": [
    "# Groups: diary questions"
   ]
  },
  {
   "cell_type": "markdown",
   "id": "f6b452b2",
   "metadata": {},
   "source": [
    "# Groups: average spend"
   ]
  },
  {
   "cell_type": "markdown",
   "id": "b31329d7",
   "metadata": {},
   "source": [
    "No idea what the units are so this data is not so useful as can be seen by plotting the prices of the cheapest and most expensive Ford models that are currently available on their website."
   ]
  },
  {
   "cell_type": "code",
   "execution_count": null,
   "id": "78f5f970",
   "metadata": {},
   "outputs": [],
   "source": [
    "import seaborn as sns\n",
    "sns.distplot(average_spend_data_w1.PUR04_46.iloc[men_over], label='men over 35', color='darkblue')\n",
    "sns.distplot(average_spend_data_w1.PUR04_46.iloc[women_over], label='women over 35', color='red')\n",
    "plt.axvline(x=19995)\n",
    "plt.axvline(x=63425)\n",
    "plt.xlabel('Average spend')\n",
    "plt.ylabel('Density')\n",
    "plt.legend()\n",
    "plt.tight_layout(h_pad=2.5)"
   ]
  },
  {
   "cell_type": "code",
   "execution_count": null,
   "id": "ce14a56a",
   "metadata": {},
   "outputs": [],
   "source": [
    "import seaborn as sns\n",
    "sns.distplot(average_spend_data_w1.PUR04_46.iloc[men_under], label='men under 35', color='darkblue')\n",
    "sns.distplot(average_spend_data_w1.PUR04_46.iloc[women_under], label='women under 35', color='red')\n",
    "plt.axvline(x=19995)\n",
    "plt.axvline(x=63425)\n",
    "plt.xlabel('Average spend')\n",
    "plt.ylabel('Density')\n",
    "plt.legend()\n",
    "plt.tight_layout(h_pad=2.5)"
   ]
  },
  {
   "cell_type": "code",
   "execution_count": null,
   "id": "9f042b70",
   "metadata": {},
   "outputs": [],
   "source": [
    "len(reduced_data_w2['PUR04_57'])"
   ]
  },
  {
   "cell_type": "code",
   "execution_count": null,
   "id": "0cfb55e4",
   "metadata": {},
   "outputs": [],
   "source": [
    "reduced_data_w2['PUR04_42'].nlargest(10, keep='first')"
   ]
  },
  {
   "cell_type": "code",
   "execution_count": null,
   "id": "dcedba31",
   "metadata": {},
   "outputs": [],
   "source": [
    "pd.DataFrame({'min': [reduced_data_w2['PUR04_57'].min(axis = 0),reduced_data_w2['PUR04_42'].min(axis = 0),\n",
    "                      reduced_data_w2['PUR04_46'].min(axis = 0)],\n",
    "              'max': [reduced_data_w2['PUR04_57'].max(axis = 0),\n",
    "                      reduced_data_w2['PUR04_42'].max(axis = 0),\n",
    "                      reduced_data_w2['PUR04_46'].max(axis = 0)]}, index=['Tablet/ipad','Mobile','New car'])"
   ]
  },
  {
   "cell_type": "code",
   "execution_count": null,
   "id": "333dbef5",
   "metadata": {},
   "outputs": [],
   "source": [
    "reduced_data_w2['PUR04_57'].nlargest(10, keep='first')"
   ]
  },
  {
   "cell_type": "code",
   "execution_count": null,
   "id": "b1c69b4f",
   "metadata": {},
   "outputs": [],
   "source": [
    "reduced_data_w2['PUR04_46'].nlargest(10, keep='first')"
   ]
  },
  {
   "cell_type": "code",
   "execution_count": null,
   "id": "7768cb90",
   "metadata": {},
   "outputs": [],
   "source": [
    "reduced_data_w2['PUR04_46'].nsmallest(10, keep='first')"
   ]
  },
  {
   "cell_type": "code",
   "execution_count": null,
   "id": "2d21cc0a",
   "metadata": {},
   "outputs": [],
   "source": [
    "reduced_data_w2['PUR04_46'].mean()\n",
    "#333972.1212121212"
   ]
  },
  {
   "cell_type": "code",
   "execution_count": null,
   "id": "99c8a85d",
   "metadata": {},
   "outputs": [],
   "source": [
    "reduced_data_w2['PUR04_46'].median()\n",
    "#63920.0"
   ]
  },
  {
   "cell_type": "code",
   "execution_count": null,
   "id": "3f0197e3",
   "metadata": {},
   "outputs": [],
   "source": [
    "reduced_data_w2['PUR04_46'].quantile(0.1) # 10th percentile\n",
    "#20258.0"
   ]
  },
  {
   "cell_type": "code",
   "execution_count": null,
   "id": "c860be5e",
   "metadata": {},
   "outputs": [],
   "source": [
    "reduced_data_w2['PUR04_46'].quantile(0.6)\n",
    "#120353.19999999994"
   ]
  },
  {
   "cell_type": "code",
   "execution_count": null,
   "id": "c299b26c",
   "metadata": {},
   "outputs": [],
   "source": [
    "reduced_data_w2['PUR04_46'].quantile(0.75)\n",
    "#411789.0"
   ]
  },
  {
   "cell_type": "code",
   "execution_count": null,
   "id": "956b2399",
   "metadata": {},
   "outputs": [],
   "source": [
    "reduced_data_w2['PUR04_46'].quantile(0.9) # 90th percentile\n",
    "#786494.0000000001"
   ]
  },
  {
   "cell_type": "markdown",
   "id": "80bc93a3",
   "metadata": {},
   "source": [
    "# Groups: ecommerce"
   ]
  },
  {
   "cell_type": "code",
   "execution_count": null,
   "id": "3e7669f8",
   "metadata": {},
   "outputs": [],
   "source": [
    "def norm_values(df):\n",
    "    return df.value_counts(normalize=True)"
   ]
  },
  {
   "cell_type": "code",
   "execution_count": null,
   "id": "c5b54773",
   "metadata": {},
   "outputs": [],
   "source": [
    "frame = {'Men over 35': online_purchase_data_w2.iloc[men_over_w2].apply(norm_values).EC02_035, 'Men under 35': online_purchase_data_w2.iloc[men_under_w2].apply(norm_values).EC02_035,\n",
    "        'Women over 35': online_purchase_data_w2.iloc[women_over_w2].apply(norm_values).EC02_035, 'Women under 35': online_purchase_data_w2.iloc[women_under_w2].apply(norm_values).EC02_035 }\n",
    "ecomm_counts = pd.DataFrame(frame)"
   ]
  },
  {
   "cell_type": "code",
   "execution_count": null,
   "id": "d607f8d5",
   "metadata": {},
   "outputs": [],
   "source": [
    "not_selected = list(ecomm_counts.iloc[0])\n",
    "selected = list(ecomm_counts.iloc[1])\n",
    "index = pd.DataFrame(ecomm_counts.columns)\n",
    "df = pd.DataFrame({'Not selected': not_selected,\n",
    "                   'Selected': selected}, index=ecomm_counts.columns)\n",
    "ax = df.plot.bar(stacked=True)\n",
    "plt.title(\"\")\n",
    "plt.legend(bbox_to_anchor = (1.05, 0.6))\n",
    "\n",
    "#plt.tight_layout(h_pad=5)\n",
    "plt.savefig('ecomm_counts.pdf', bbox_inches='tight')\n",
    "plt.show()"
   ]
  },
  {
   "cell_type": "markdown",
   "id": "a7f6a761",
   "metadata": {},
   "source": [
    "# Personality: attitudes"
   ]
  },
  {
   "cell_type": "code",
   "execution_count": null,
   "id": "c2959551",
   "metadata": {},
   "outputs": [],
   "source": [
    "attitudes_data_w1 = attitudes_data_w1.fillna(0)\n",
    "average_spend_data_w1['PUR04_46'] = average_spend_data_w1['PUR04_46'].fillna(0)"
   ]
  },
  {
   "cell_type": "code",
   "execution_count": null,
   "id": "28b1811d",
   "metadata": {},
   "outputs": [],
   "source": [
    "pd.DataFrame([attitudes_data_w1.min(axis = 0), attitudes_data_w1.max(axis = 0)], index = ['min', 'max'])\n",
    "#1: Completely disgree\n",
    "#5: Completely agree"
   ]
  },
  {
   "cell_type": "code",
   "execution_count": null,
   "id": "ae0b3644",
   "metadata": {},
   "outputs": [],
   "source": [
    "pd.DataFrame(mutual_info_classif(attitudes_data_w1, average_spend_data_w1['PUR04_46'], random_state=42), index =attitudes_data_w1.columns, columns=['MI'])"
   ]
  },
  {
   "cell_type": "markdown",
   "id": "048c1eae",
   "metadata": {},
   "source": [
    "# Personality: interests"
   ]
  },
  {
   "cell_type": "code",
   "execution_count": null,
   "id": "504d3a62",
   "metadata": {},
   "outputs": [],
   "source": [
    "interests_data_w1 = interests_data_w1.fillna(0)"
   ]
  },
  {
   "cell_type": "code",
   "execution_count": null,
   "id": "472b2fd4",
   "metadata": {},
   "outputs": [],
   "source": [
    "pd.DataFrame([interests_data_w1.min(axis = 0), interests_data_w1.max(axis = 0)], index = ['min', 'max'])"
   ]
  },
  {
   "cell_type": "code",
   "execution_count": null,
   "id": "02e6efe7",
   "metadata": {},
   "outputs": [],
   "source": [
    "pd.DataFrame(mutual_info_classif(interests_data_w1, average_spend_data_w1['PUR04_46'], random_state=42), index =interests_data_w1.columns, columns=['MI'])"
   ]
  },
  {
   "cell_type": "markdown",
   "id": "34c6d278",
   "metadata": {},
   "source": [
    "# Personality: hobbies"
   ]
  },
  {
   "cell_type": "code",
   "execution_count": null,
   "id": "7c1603f0",
   "metadata": {},
   "outputs": [],
   "source": [
    "hobbies_data_w1 = hobbies_data_w1.fillna(0)"
   ]
  },
  {
   "cell_type": "code",
   "execution_count": null,
   "id": "0eb8a0ce",
   "metadata": {},
   "outputs": [],
   "source": [
    "pd.DataFrame([hobbies_data_w1.min(axis = 0), hobbies_data_w1.max(axis = 0)], index = ['min', 'max'])"
   ]
  },
  {
   "cell_type": "code",
   "execution_count": null,
   "id": "9bca6275",
   "metadata": {},
   "outputs": [],
   "source": [
    "pd.DataFrame(mutual_info_classif(hobbies_data_w1, average_spend_data_w1['PUR04_46'], random_state=42), index =hobbies_data_w1.columns, columns=['MI'])"
   ]
  },
  {
   "cell_type": "markdown",
   "id": "05e76873",
   "metadata": {},
   "source": [
    "# Income"
   ]
  },
  {
   "cell_type": "code",
   "execution_count": null,
   "id": "3bc40bcf",
   "metadata": {},
   "outputs": [],
   "source": [
    "income_data_w1 = income_data_w1.fillna(0)"
   ]
  },
  {
   "cell_type": "code",
   "execution_count": null,
   "id": "67bf50c9",
   "metadata": {},
   "outputs": [],
   "source": [
    "pd.DataFrame([income_data_w1.min(axis = 0), income_data_w1.max(axis = 0)], index = ['min', 'max'])\n",
    "#998:non of the above"
   ]
  },
  {
   "cell_type": "code",
   "execution_count": null,
   "id": "ab4aa47a",
   "metadata": {},
   "outputs": [],
   "source": [
    "pd.DataFrame(mutual_info_classif(income_data_w1, average_spend_data_w1['PUR04_46'], random_state=42), index =income_data_w1.columns, columns=['MI'])"
   ]
  },
  {
   "cell_type": "markdown",
   "id": "ed8885ad",
   "metadata": {},
   "source": [
    "# Non-core demographics"
   ]
  },
  {
   "cell_type": "code",
   "execution_count": null,
   "id": "ba5d00fc",
   "metadata": {},
   "outputs": [],
   "source": [
    "non_core_dems_data_w1 = non_core_dems_data_w1.fillna(0)"
   ]
  },
  {
   "cell_type": "code",
   "execution_count": null,
   "id": "c36203dd",
   "metadata": {},
   "outputs": [],
   "source": [
    "pd.DataFrame([non_core_dems_data_w1.min(axis = 0), non_core_dems_data_w1.max(axis = 0)], index = ['min', 'max'])\n",
    "#998:non of the above"
   ]
  },
  {
   "cell_type": "code",
   "execution_count": null,
   "id": "ec582ea6",
   "metadata": {},
   "outputs": [],
   "source": [
    "pd.DataFrame(mutual_info_classif(non_core_dems_data_w1, average_spend_data_w1['PUR04_46'], random_state=42), index =non_core_dems_data_w1.columns, columns=['MI'])"
   ]
  },
  {
   "cell_type": "markdown",
   "id": "44e4db18",
   "metadata": {},
   "source": [
    "# Groups: environmental issues"
   ]
  },
  {
   "cell_type": "code",
   "execution_count": null,
   "id": "e60fa72b",
   "metadata": {},
   "outputs": [],
   "source": [
    "#QP04_53 is only asked to people that already have a car"
   ]
  },
  {
   "cell_type": "markdown",
   "id": "23ce8d43",
   "metadata": {},
   "source": [
    "# When are people watching TV?"
   ]
  },
  {
   "cell_type": "code",
   "execution_count": null,
   "id": "cfdca628",
   "metadata": {},
   "outputs": [],
   "source": [
    "#diary questions on when people are watching TV\n",
    "#diary_variables_w1 = ['DIA01_21','DIA02_21','DIA03_21','DIA04_21','DIA05_21']\n",
    "diary_variables_w1 = ['DIA01_21','DIA02_21','DIA03_21','DIA04_21']\n",
    "diary_data_w1 = reduced_data_w1[diary_variables_w1]"
   ]
  },
  {
   "cell_type": "code",
   "execution_count": null,
   "id": "432bec98",
   "metadata": {},
   "outputs": [],
   "source": [
    "diary_labels = labels[labels['Variable'].isin(diary_variables_w1)].reset_index()"
   ]
  },
  {
   "cell_type": "code",
   "execution_count": null,
   "id": "da0b8664",
   "metadata": {},
   "outputs": [],
   "source": [
    "names_only = []\n",
    "for l in diary_labels['Cleaned label']:\n",
    "    names_only.append(l[1])"
   ]
  },
  {
   "cell_type": "code",
   "execution_count": null,
   "id": "746577cc",
   "metadata": {},
   "outputs": [],
   "source": [
    "description = pd.DataFrame(names_only,columns=['Description'])"
   ]
  },
  {
   "cell_type": "code",
   "execution_count": null,
   "id": "0d9194c4",
   "metadata": {},
   "outputs": [],
   "source": [
    "diary_labels['Description']=pd.DataFrame(names_only)"
   ]
  },
  {
   "cell_type": "code",
   "execution_count": null,
   "id": "fca82f62",
   "metadata": {},
   "outputs": [],
   "source": [
    "diary_data_w1.columns = list(diary_labels['Description'][0:len(list(diary_data_w1.columns))])"
   ]
  },
  {
   "cell_type": "code",
   "execution_count": null,
   "id": "82bd176b",
   "metadata": {},
   "outputs": [],
   "source": [
    "diary_data_w1.agg(['size', 'count', 'nunique'])"
   ]
  },
  {
   "cell_type": "code",
   "execution_count": null,
   "id": "ef9cb08e",
   "metadata": {},
   "outputs": [],
   "source": [
    "diary_data_w1.apply(pd.value_counts)"
   ]
  },
  {
   "cell_type": "code",
   "execution_count": null,
   "id": "d0d0a433",
   "metadata": {},
   "outputs": [],
   "source": [
    "diary_norm_w1 = diary_data_w1.apply(norm_values)"
   ]
  },
  {
   "cell_type": "code",
   "execution_count": null,
   "id": "19b290b3",
   "metadata": {},
   "outputs": [],
   "source": [
    "#not_selected = list(diary_norm_w1.iloc[0])\n",
    "selected = list(diary_norm_w1.iloc[1])\n",
    "index = pd.DataFrame(diary_norm_w1.columns)\n",
    "df = pd.DataFrame({'Selected': selected}, index=diary_norm_w1.columns)\n",
    "ax = df.plot.bar(legend=False)\n",
    "plt.title(\"\")\n",
    "#plt.legend()\n",
    "\n",
    "#plt.tight_layout(h_pad=5)\n",
    "plt.title(\"TV times\")\n",
    "\n",
    "plt.savefig('diary_counts.pdf', bbox_inches='tight')\n",
    "plt.show()"
   ]
  },
  {
   "cell_type": "markdown",
   "id": "4d783612",
   "metadata": {},
   "source": [
    "# Who bought a car in the last 12 months?"
   ]
  },
  {
   "cell_type": "code",
   "execution_count": null,
   "id": "3a952337",
   "metadata": {},
   "outputs": [],
   "source": [
    "#1:13-17\n",
    "#2:18-24\n",
    "#3:25-34\n",
    "#4:35-44\n",
    "#5:45-54\n",
    "#6:55+\n",
    "(x, y) = (reduced_data_w1['Q01_NET'],reduced_data_w1['PUR03_2_46'])"
   ]
  },
  {
   "cell_type": "code",
   "execution_count": null,
   "id": "b57faa64",
   "metadata": {},
   "outputs": [],
   "source": [
    "x.agg(['size', 'count', 'nunique'])"
   ]
  },
  {
   "cell_type": "code",
   "execution_count": null,
   "id": "e8b1b9e7",
   "metadata": {},
   "outputs": [],
   "source": [
    "y.agg(['size', 'count', 'nunique'])"
   ]
  },
  {
   "cell_type": "code",
   "execution_count": null,
   "id": "a8f226c4",
   "metadata": {},
   "outputs": [],
   "source": [
    "x.value_counts()"
   ]
  },
  {
   "cell_type": "code",
   "execution_count": null,
   "id": "d5385171",
   "metadata": {},
   "outputs": [],
   "source": [
    "y.value_counts()"
   ]
  },
  {
   "cell_type": "code",
   "execution_count": null,
   "id": "4e7f90b3",
   "metadata": {},
   "outputs": [],
   "source": [
    "df = reduced_data_w1[reduced_data_w1['PUR03_2_46']==1][['Q01_NET']]\n",
    "df.value_counts()"
   ]
  },
  {
   "cell_type": "code",
   "execution_count": null,
   "id": "c265ebcb",
   "metadata": {},
   "outputs": [],
   "source": [
    "#df = df.replace({1: '13-17',2: '18-24',3: '25-34',4: '35-44',5: '45-54',6: '55+'})"
   ]
  },
  {
   "cell_type": "code",
   "execution_count": null,
   "id": "5481f9a5",
   "metadata": {},
   "outputs": [],
   "source": [
    "df"
   ]
  },
  {
   "cell_type": "code",
   "execution_count": null,
   "id": "0b34a70b",
   "metadata": {},
   "outputs": [],
   "source": [
    "import seaborn as sns\n",
    "g = sns.distplot(df)\n",
    "plt.xlabel('Age')\n",
    "plt.ylabel('')\n",
    "#g.set_xticklabels(['13-17','18-24','25-34','35-44','45-54','55+'])\n",
    "plt.tight_layout(h_pad=2.5)\n",
    "\n",
    "plt.title(\"Age of car buyers in the last 12 months\")\n",
    "\n",
    "plt.savefig('age_car_buyers.pdf', bbox_inches='tight')\n",
    "plt.show()"
   ]
  },
  {
   "cell_type": "code",
   "execution_count": null,
   "id": "a377d258",
   "metadata": {},
   "outputs": [],
   "source": [
    "reduced_data_w2['DEM152'].agg(['size', 'count', 'nunique'])"
   ]
  },
  {
   "cell_type": "code",
   "execution_count": null,
   "id": "c0b32d6e",
   "metadata": {},
   "outputs": [],
   "source": []
  }
 ],
 "metadata": {
  "kernelspec": {
   "display_name": "Python 3 (ipykernel)",
   "language": "python",
   "name": "python3"
  },
  "language_info": {
   "codemirror_mode": {
    "name": "ipython",
    "version": 3
   },
   "file_extension": ".py",
   "mimetype": "text/x-python",
   "name": "python",
   "nbconvert_exporter": "python",
   "pygments_lexer": "ipython3",
   "version": "3.10.4"
  }
 },
 "nbformat": 4,
 "nbformat_minor": 5
}
