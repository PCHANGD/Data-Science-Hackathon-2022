{
 "cells": [
  {
   "cell_type": "code",
   "execution_count": null,
   "id": "2be1c12f-bd50-4de7-bb37-12ab40c66823",
   "metadata": {},
   "outputs": [],
   "source": [
    "import pandas as pd\n",
    "import numpy as np\n",
    "\n",
    "import requests\n",
    "import re\n",
    "\n",
    "from bav_utils import token, get_url, get_pages, get_json"
   ]
  },
  {
   "cell_type": "code",
   "execution_count": null,
   "id": "5566b0fa-2419-487d-967c-0b20e11d9e5a",
   "metadata": {},
   "outputs": [],
   "source": [
    "dict_studies = {\"Australia\": 586, \"USA\": 628}\n",
    "dict_bases = {\"All adults\": 1, \"Male\": 2, \"Female\": 3}\n",
    "dict_categories = {\"Automobiles\": 2, \"Electric Vehicle\": 1383, \"Hybrid Vehicle\": 1463, \"Hybrid/Electric vehicles\": 1464}"
   ]
  },
  {
   "cell_type": "code",
   "execution_count": null,
   "id": "bede3569-378d-4884-bf7e-b543de0fb43f",
   "metadata": {
    "tags": []
   },
   "outputs": [],
   "source": [
    "json = []\n",
    "\n",
    "# For loop prevents problems with skipping ids\n",
    "for study_name, study_id in dict_studies.items():  \n",
    "    print(study_name)\n",
    "    for base_name, base_id in dict_bases.items():\n",
    "        print(base_name)\n",
    "        url = get_url(\n",
    "            name = \"brandscape-data\", \n",
    "            extensions = [\n",
    "                f\"studies={study_id}\",\n",
    "                f\"bases={base_id}\",\n",
    "            ]\n",
    "        )\n",
    "        pages = get_pages(url, token)\n",
    "        json += get_json(url, token, pages)"
   ]
  },
  {
   "cell_type": "code",
   "execution_count": null,
   "id": "dbbee655-228f-4e73-b9a0-90e5c9189033",
   "metadata": {},
   "outputs": [],
   "source": [
    "dict_profile_vars = {\n",
    "    \"brand\": [\"id\", \"name\"], \n",
    "    \"study\": [\"id\", \"country\"], \n",
    "    \"base\": [\"id\", \"name\"], \n",
    "    \"category\": [\"id\", \"name\", \"sector\"]\n",
    "}"
   ]
  },
  {
   "cell_type": "code",
   "execution_count": null,
   "id": "8dfb063d-1051-4791-9872-997c26cec728",
   "metadata": {},
   "outputs": [],
   "source": [
    "# IF brand is NOT none\n",
    "# AND category matches dict_categories\n",
    "# THEN flatten json with variables spec in dict_profiles \n",
    "dict_profiles = {idx: \n",
    "    { f\"{k}_{v}\": json_data[k][v] for k in dict_profile_vars.keys() for v in dict_profile_vars[k]}\n",
    "    for idx, json_data in enumerate(json)\n",
    "    if (json_data[\"brand\"] != None) & (json_data[\"category\"][\"id\"] in dict_categories.values())\n",
    "}\n",
    "\n",
    "# Add idx to dict\n",
    "for idx, values in dict_profiles.items():\n",
    "    values.update({\"idx\": idx})\n",
    "\n",
    "# Get json profiles for selected cats\n",
    "profiles = pd.DataFrame([x for x in dict_profiles.values()])\n",
    "profiles"
   ]
  },
  {
   "cell_type": "code",
   "execution_count": null,
   "id": "2a1ce1b1-0473-41a8-881c-3cb9a44ce430",
   "metadata": {},
   "outputs": [],
   "source": [
    "# Process metrics\n",
    "list_metrics = []\n",
    "\n",
    "# FOR each brand in json, process each metric\n",
    "for idx in dict_profiles.keys():\n",
    "    json_data = json[idx][\"metrics\"]\n",
    "    \n",
    "    for metric in json_data:\n",
    "        dict_metrics = {\n",
    "            \"idx\": idx,\n",
    "            \"metric_name\": metric[\"name\"],\n",
    "            \"metric_group\": metric[\"group\"][\"name\"]\n",
    "        }\n",
    "        \n",
    "        # Update metrics dict with scores subdict\n",
    "        dict_metrics.update(metric[\"scores\"])\n",
    "        \n",
    "        list_metrics.append(dict_metrics)\n",
    "        \n",
    "metrics = pd.DataFrame(list_metrics)\n",
    "\n",
    "# Post-processing of metrics\n",
    "metric_groups = [\"Base Sizes\", \"Powergrid\", \"Usage\", \"Preference\", \"Recommendation\", \"Imagery\", \"Love\"]\n",
    "metrics = metrics.loc[metrics[\"metric_group\"].isin(metric_groups)]\n",
    "metrics = metrics.melt(id_vars = [\"idx\", \"metric_name\", \"metric_group\"], var_name = \"metric_var\", value_name = \"value\")\n",
    "metrics = metrics.dropna(subset=[\"value\"])\n",
    "metrics.reset_index(drop=True, inplace=True)\n",
    "metrics"
   ]
  },
  {
   "cell_type": "code",
   "execution_count": null,
   "id": "6b7d09a4-686b-4424-9aa3-e325c91667ed",
   "metadata": {},
   "outputs": [],
   "source": [
    "# Merge profiles and metrics together\n",
    "brandscape = profiles.merge(metrics, how=\"outer\")\n",
    "brandscape[\"base\"] = brandscape[\"base_id\"].astype(str) + \"_\" + brandscape[\"base_name\"]\n",
    "cols = [\"study_country\", \"category_id\", \"category_name\", \"base\", \"brand_name\", \"metric_group\", \"metric_name\", \"metric_var\", \"value\"]\n",
    "brandscape = brandscape[cols]\n",
    "col_names = {\n",
    "    \"study_country\": \"country\",\n",
    "    \"category_id\": \"cat_id\",\n",
    "    \"category_name\": \"cat_name\",\n",
    "    \"brand_name\": \"brand\",\n",
    "}\n",
    "brandscape.rename(columns=col_names, inplace=True)\n",
    "brandscape"
   ]
  },
  {
   "cell_type": "code",
   "execution_count": null,
   "id": "e9fe5bdc-a3fb-4d40-8ff7-99e78bd89c7c",
   "metadata": {},
   "outputs": [],
   "source": [
    "# Check categories\n",
    "if brandscape[\"cat_name\"].nunique() == 1:\n",
    "    print(\"Brandscape only contains 1 category\")\n",
    "    brandscape.drop(columns=[\"cat_id\", \"cat_name\"], inplace=True)"
   ]
  },
  {
   "cell_type": "code",
   "execution_count": null,
   "id": "821d7e09-cd41-4e90-8684-d4a98881ea81",
   "metadata": {},
   "outputs": [],
   "source": [
    "# Export\n",
    "brandscape.to_csv(\"brandscape.csv\")"
   ]
  }
 ],
 "metadata": {
  "kernelspec": {
   "display_name": "Python 3 (ipykernel)",
   "language": "python",
   "name": "python3"
  },
  "language_info": {
   "codemirror_mode": {
    "name": "ipython",
    "version": 3
   },
   "file_extension": ".py",
   "mimetype": "text/x-python",
   "name": "python",
   "nbconvert_exporter": "python",
   "pygments_lexer": "ipython3",
   "version": "3.10.4"
  }
 },
 "nbformat": 4,
 "nbformat_minor": 5
}
